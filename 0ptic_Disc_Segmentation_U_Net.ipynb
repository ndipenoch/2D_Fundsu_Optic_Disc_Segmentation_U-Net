{
  "nbformat": 4,
  "nbformat_minor": 0,
  "metadata": {
    "colab": {
      "name": "0ptic_Disc_Segmentation_U-Net.ipynb",
      "provenance": [],
      "machine_shape": "hm"
    },
    "kernelspec": {
      "name": "python3",
      "display_name": "Python 3"
    },
    "language_info": {
      "name": "python"
    },
    "accelerator": "GPU",
    "widgets": {
      "application/vnd.jupyter.widget-state+json": {
        "fc6a11e7c76048649c644ff42841e0f8": {
          "model_module": "@jupyter-widgets/controls",
          "model_name": "HBoxModel",
          "model_module_version": "1.5.0",
          "state": {
            "_view_name": "HBoxView",
            "_dom_classes": [],
            "_model_name": "HBoxModel",
            "_view_module": "@jupyter-widgets/controls",
            "_model_module_version": "1.5.0",
            "_view_count": null,
            "_view_module_version": "1.5.0",
            "box_style": "",
            "layout": "IPY_MODEL_d786ab99ee3c432183139e20db85a05d",
            "_model_module": "@jupyter-widgets/controls",
            "children": [
              "IPY_MODEL_b25705a2fcf243f8906c05dbd1267a97",
              "IPY_MODEL_3210fa7eb02643c8bf888158f2aece61",
              "IPY_MODEL_500762647613444cb84e1f3608377864"
            ]
          }
        },
        "d786ab99ee3c432183139e20db85a05d": {
          "model_module": "@jupyter-widgets/base",
          "model_name": "LayoutModel",
          "model_module_version": "1.2.0",
          "state": {
            "_view_name": "LayoutView",
            "grid_template_rows": null,
            "right": null,
            "justify_content": null,
            "_view_module": "@jupyter-widgets/base",
            "overflow": null,
            "_model_module_version": "1.2.0",
            "_view_count": null,
            "flex_flow": null,
            "width": null,
            "min_width": null,
            "border": null,
            "align_items": null,
            "bottom": null,
            "_model_module": "@jupyter-widgets/base",
            "top": null,
            "grid_column": null,
            "overflow_y": null,
            "overflow_x": null,
            "grid_auto_flow": null,
            "grid_area": null,
            "grid_template_columns": null,
            "flex": null,
            "_model_name": "LayoutModel",
            "justify_items": null,
            "grid_row": null,
            "max_height": null,
            "align_content": null,
            "visibility": null,
            "align_self": null,
            "height": null,
            "min_height": null,
            "padding": null,
            "grid_auto_rows": null,
            "grid_gap": null,
            "max_width": null,
            "order": null,
            "_view_module_version": "1.2.0",
            "grid_template_areas": null,
            "object_position": null,
            "object_fit": null,
            "grid_auto_columns": null,
            "margin": null,
            "display": null,
            "left": null
          }
        },
        "b25705a2fcf243f8906c05dbd1267a97": {
          "model_module": "@jupyter-widgets/controls",
          "model_name": "HTMLModel",
          "model_module_version": "1.5.0",
          "state": {
            "_view_name": "HTMLView",
            "style": "IPY_MODEL_d26b118204d044c1b8c355972800cde8",
            "_dom_classes": [],
            "description": "",
            "_model_name": "HTMLModel",
            "placeholder": "​",
            "_view_module": "@jupyter-widgets/controls",
            "_model_module_version": "1.5.0",
            "value": "100%",
            "_view_count": null,
            "_view_module_version": "1.5.0",
            "description_tooltip": null,
            "_model_module": "@jupyter-widgets/controls",
            "layout": "IPY_MODEL_fe2b0a336e30423b9c6ec468505d9318"
          }
        },
        "3210fa7eb02643c8bf888158f2aece61": {
          "model_module": "@jupyter-widgets/controls",
          "model_name": "FloatProgressModel",
          "model_module_version": "1.5.0",
          "state": {
            "_view_name": "ProgressView",
            "style": "IPY_MODEL_acdce5d628cd49e597d809d021cab843",
            "_dom_classes": [],
            "description": "",
            "_model_name": "FloatProgressModel",
            "bar_style": "success",
            "max": 513,
            "_view_module": "@jupyter-widgets/controls",
            "_model_module_version": "1.5.0",
            "value": 513,
            "_view_count": null,
            "_view_module_version": "1.5.0",
            "orientation": "horizontal",
            "min": 0,
            "description_tooltip": null,
            "_model_module": "@jupyter-widgets/controls",
            "layout": "IPY_MODEL_0089f94de8a1488386f5825006a00750"
          }
        },
        "500762647613444cb84e1f3608377864": {
          "model_module": "@jupyter-widgets/controls",
          "model_name": "HTMLModel",
          "model_module_version": "1.5.0",
          "state": {
            "_view_name": "HTMLView",
            "style": "IPY_MODEL_6e9db038d3274af3bc4a74f69bd681f7",
            "_dom_classes": [],
            "description": "",
            "_model_name": "HTMLModel",
            "placeholder": "​",
            "_view_module": "@jupyter-widgets/controls",
            "_model_module_version": "1.5.0",
            "value": " 513/513 [00:16&lt;00:00, 29.91it/s]",
            "_view_count": null,
            "_view_module_version": "1.5.0",
            "description_tooltip": null,
            "_model_module": "@jupyter-widgets/controls",
            "layout": "IPY_MODEL_26cb845e5e994098b8a98385ef4768ab"
          }
        },
        "d26b118204d044c1b8c355972800cde8": {
          "model_module": "@jupyter-widgets/controls",
          "model_name": "DescriptionStyleModel",
          "model_module_version": "1.5.0",
          "state": {
            "_view_name": "StyleView",
            "_model_name": "DescriptionStyleModel",
            "description_width": "",
            "_view_module": "@jupyter-widgets/base",
            "_model_module_version": "1.5.0",
            "_view_count": null,
            "_view_module_version": "1.2.0",
            "_model_module": "@jupyter-widgets/controls"
          }
        },
        "fe2b0a336e30423b9c6ec468505d9318": {
          "model_module": "@jupyter-widgets/base",
          "model_name": "LayoutModel",
          "model_module_version": "1.2.0",
          "state": {
            "_view_name": "LayoutView",
            "grid_template_rows": null,
            "right": null,
            "justify_content": null,
            "_view_module": "@jupyter-widgets/base",
            "overflow": null,
            "_model_module_version": "1.2.0",
            "_view_count": null,
            "flex_flow": null,
            "width": null,
            "min_width": null,
            "border": null,
            "align_items": null,
            "bottom": null,
            "_model_module": "@jupyter-widgets/base",
            "top": null,
            "grid_column": null,
            "overflow_y": null,
            "overflow_x": null,
            "grid_auto_flow": null,
            "grid_area": null,
            "grid_template_columns": null,
            "flex": null,
            "_model_name": "LayoutModel",
            "justify_items": null,
            "grid_row": null,
            "max_height": null,
            "align_content": null,
            "visibility": null,
            "align_self": null,
            "height": null,
            "min_height": null,
            "padding": null,
            "grid_auto_rows": null,
            "grid_gap": null,
            "max_width": null,
            "order": null,
            "_view_module_version": "1.2.0",
            "grid_template_areas": null,
            "object_position": null,
            "object_fit": null,
            "grid_auto_columns": null,
            "margin": null,
            "display": null,
            "left": null
          }
        },
        "acdce5d628cd49e597d809d021cab843": {
          "model_module": "@jupyter-widgets/controls",
          "model_name": "ProgressStyleModel",
          "model_module_version": "1.5.0",
          "state": {
            "_view_name": "StyleView",
            "_model_name": "ProgressStyleModel",
            "description_width": "",
            "_view_module": "@jupyter-widgets/base",
            "_model_module_version": "1.5.0",
            "_view_count": null,
            "_view_module_version": "1.2.0",
            "bar_color": null,
            "_model_module": "@jupyter-widgets/controls"
          }
        },
        "0089f94de8a1488386f5825006a00750": {
          "model_module": "@jupyter-widgets/base",
          "model_name": "LayoutModel",
          "model_module_version": "1.2.0",
          "state": {
            "_view_name": "LayoutView",
            "grid_template_rows": null,
            "right": null,
            "justify_content": null,
            "_view_module": "@jupyter-widgets/base",
            "overflow": null,
            "_model_module_version": "1.2.0",
            "_view_count": null,
            "flex_flow": null,
            "width": null,
            "min_width": null,
            "border": null,
            "align_items": null,
            "bottom": null,
            "_model_module": "@jupyter-widgets/base",
            "top": null,
            "grid_column": null,
            "overflow_y": null,
            "overflow_x": null,
            "grid_auto_flow": null,
            "grid_area": null,
            "grid_template_columns": null,
            "flex": null,
            "_model_name": "LayoutModel",
            "justify_items": null,
            "grid_row": null,
            "max_height": null,
            "align_content": null,
            "visibility": null,
            "align_self": null,
            "height": null,
            "min_height": null,
            "padding": null,
            "grid_auto_rows": null,
            "grid_gap": null,
            "max_width": null,
            "order": null,
            "_view_module_version": "1.2.0",
            "grid_template_areas": null,
            "object_position": null,
            "object_fit": null,
            "grid_auto_columns": null,
            "margin": null,
            "display": null,
            "left": null
          }
        },
        "6e9db038d3274af3bc4a74f69bd681f7": {
          "model_module": "@jupyter-widgets/controls",
          "model_name": "DescriptionStyleModel",
          "model_module_version": "1.5.0",
          "state": {
            "_view_name": "StyleView",
            "_model_name": "DescriptionStyleModel",
            "description_width": "",
            "_view_module": "@jupyter-widgets/base",
            "_model_module_version": "1.5.0",
            "_view_count": null,
            "_view_module_version": "1.2.0",
            "_model_module": "@jupyter-widgets/controls"
          }
        },
        "26cb845e5e994098b8a98385ef4768ab": {
          "model_module": "@jupyter-widgets/base",
          "model_name": "LayoutModel",
          "model_module_version": "1.2.0",
          "state": {
            "_view_name": "LayoutView",
            "grid_template_rows": null,
            "right": null,
            "justify_content": null,
            "_view_module": "@jupyter-widgets/base",
            "overflow": null,
            "_model_module_version": "1.2.0",
            "_view_count": null,
            "flex_flow": null,
            "width": null,
            "min_width": null,
            "border": null,
            "align_items": null,
            "bottom": null,
            "_model_module": "@jupyter-widgets/base",
            "top": null,
            "grid_column": null,
            "overflow_y": null,
            "overflow_x": null,
            "grid_auto_flow": null,
            "grid_area": null,
            "grid_template_columns": null,
            "flex": null,
            "_model_name": "LayoutModel",
            "justify_items": null,
            "grid_row": null,
            "max_height": null,
            "align_content": null,
            "visibility": null,
            "align_self": null,
            "height": null,
            "min_height": null,
            "padding": null,
            "grid_auto_rows": null,
            "grid_gap": null,
            "max_width": null,
            "order": null,
            "_view_module_version": "1.2.0",
            "grid_template_areas": null,
            "object_position": null,
            "object_fit": null,
            "grid_auto_columns": null,
            "margin": null,
            "display": null,
            "left": null
          }
        },
        "caaf05731d164ce7ac71241f3045bae2": {
          "model_module": "@jupyter-widgets/controls",
          "model_name": "HBoxModel",
          "model_module_version": "1.5.0",
          "state": {
            "_view_name": "HBoxView",
            "_dom_classes": [],
            "_model_name": "HBoxModel",
            "_view_module": "@jupyter-widgets/controls",
            "_model_module_version": "1.5.0",
            "_view_count": null,
            "_view_module_version": "1.5.0",
            "box_style": "",
            "layout": "IPY_MODEL_9e8b661ba04246d8a580cc4e9d32c762",
            "_model_module": "@jupyter-widgets/controls",
            "children": [
              "IPY_MODEL_84a542b2845e42d68c5f01ee5d4aa78b",
              "IPY_MODEL_b5483fc32af84f82b1513cbe92bd71b7",
              "IPY_MODEL_d9028af939324023823c50e02038398e"
            ]
          }
        },
        "9e8b661ba04246d8a580cc4e9d32c762": {
          "model_module": "@jupyter-widgets/base",
          "model_name": "LayoutModel",
          "model_module_version": "1.2.0",
          "state": {
            "_view_name": "LayoutView",
            "grid_template_rows": null,
            "right": null,
            "justify_content": null,
            "_view_module": "@jupyter-widgets/base",
            "overflow": null,
            "_model_module_version": "1.2.0",
            "_view_count": null,
            "flex_flow": null,
            "width": null,
            "min_width": null,
            "border": null,
            "align_items": null,
            "bottom": null,
            "_model_module": "@jupyter-widgets/base",
            "top": null,
            "grid_column": null,
            "overflow_y": null,
            "overflow_x": null,
            "grid_auto_flow": null,
            "grid_area": null,
            "grid_template_columns": null,
            "flex": null,
            "_model_name": "LayoutModel",
            "justify_items": null,
            "grid_row": null,
            "max_height": null,
            "align_content": null,
            "visibility": null,
            "align_self": null,
            "height": null,
            "min_height": null,
            "padding": null,
            "grid_auto_rows": null,
            "grid_gap": null,
            "max_width": null,
            "order": null,
            "_view_module_version": "1.2.0",
            "grid_template_areas": null,
            "object_position": null,
            "object_fit": null,
            "grid_auto_columns": null,
            "margin": null,
            "display": null,
            "left": null
          }
        },
        "84a542b2845e42d68c5f01ee5d4aa78b": {
          "model_module": "@jupyter-widgets/controls",
          "model_name": "HTMLModel",
          "model_module_version": "1.5.0",
          "state": {
            "_view_name": "HTMLView",
            "style": "IPY_MODEL_51897e8fccf640278205be2fd6b2a500",
            "_dom_classes": [],
            "description": "",
            "_model_name": "HTMLModel",
            "placeholder": "​",
            "_view_module": "@jupyter-widgets/controls",
            "_model_module_version": "1.5.0",
            "value": "100%",
            "_view_count": null,
            "_view_module_version": "1.5.0",
            "description_tooltip": null,
            "_model_module": "@jupyter-widgets/controls",
            "layout": "IPY_MODEL_4680e143c5d84bb594e655fcc9556cba"
          }
        },
        "b5483fc32af84f82b1513cbe92bd71b7": {
          "model_module": "@jupyter-widgets/controls",
          "model_name": "FloatProgressModel",
          "model_module_version": "1.5.0",
          "state": {
            "_view_name": "ProgressView",
            "style": "IPY_MODEL_b98ae9a1cf9c4735b2b27ba284871be3",
            "_dom_classes": [],
            "description": "",
            "_model_name": "FloatProgressModel",
            "bar_style": "success",
            "max": 175,
            "_view_module": "@jupyter-widgets/controls",
            "_model_module_version": "1.5.0",
            "value": 175,
            "_view_count": null,
            "_view_module_version": "1.5.0",
            "orientation": "horizontal",
            "min": 0,
            "description_tooltip": null,
            "_model_module": "@jupyter-widgets/controls",
            "layout": "IPY_MODEL_312d47f45e134cba950f097eb9fc87db"
          }
        },
        "d9028af939324023823c50e02038398e": {
          "model_module": "@jupyter-widgets/controls",
          "model_name": "HTMLModel",
          "model_module_version": "1.5.0",
          "state": {
            "_view_name": "HTMLView",
            "style": "IPY_MODEL_21a86c7125e1423ba152299ee32bfdce",
            "_dom_classes": [],
            "description": "",
            "_model_name": "HTMLModel",
            "placeholder": "​",
            "_view_module": "@jupyter-widgets/controls",
            "_model_module_version": "1.5.0",
            "value": " 175/175 [00:05&lt;00:00, 31.33it/s]",
            "_view_count": null,
            "_view_module_version": "1.5.0",
            "description_tooltip": null,
            "_model_module": "@jupyter-widgets/controls",
            "layout": "IPY_MODEL_36b121d8ed124b4ab8c10bd47c14701e"
          }
        },
        "51897e8fccf640278205be2fd6b2a500": {
          "model_module": "@jupyter-widgets/controls",
          "model_name": "DescriptionStyleModel",
          "model_module_version": "1.5.0",
          "state": {
            "_view_name": "StyleView",
            "_model_name": "DescriptionStyleModel",
            "description_width": "",
            "_view_module": "@jupyter-widgets/base",
            "_model_module_version": "1.5.0",
            "_view_count": null,
            "_view_module_version": "1.2.0",
            "_model_module": "@jupyter-widgets/controls"
          }
        },
        "4680e143c5d84bb594e655fcc9556cba": {
          "model_module": "@jupyter-widgets/base",
          "model_name": "LayoutModel",
          "model_module_version": "1.2.0",
          "state": {
            "_view_name": "LayoutView",
            "grid_template_rows": null,
            "right": null,
            "justify_content": null,
            "_view_module": "@jupyter-widgets/base",
            "overflow": null,
            "_model_module_version": "1.2.0",
            "_view_count": null,
            "flex_flow": null,
            "width": null,
            "min_width": null,
            "border": null,
            "align_items": null,
            "bottom": null,
            "_model_module": "@jupyter-widgets/base",
            "top": null,
            "grid_column": null,
            "overflow_y": null,
            "overflow_x": null,
            "grid_auto_flow": null,
            "grid_area": null,
            "grid_template_columns": null,
            "flex": null,
            "_model_name": "LayoutModel",
            "justify_items": null,
            "grid_row": null,
            "max_height": null,
            "align_content": null,
            "visibility": null,
            "align_self": null,
            "height": null,
            "min_height": null,
            "padding": null,
            "grid_auto_rows": null,
            "grid_gap": null,
            "max_width": null,
            "order": null,
            "_view_module_version": "1.2.0",
            "grid_template_areas": null,
            "object_position": null,
            "object_fit": null,
            "grid_auto_columns": null,
            "margin": null,
            "display": null,
            "left": null
          }
        },
        "b98ae9a1cf9c4735b2b27ba284871be3": {
          "model_module": "@jupyter-widgets/controls",
          "model_name": "ProgressStyleModel",
          "model_module_version": "1.5.0",
          "state": {
            "_view_name": "StyleView",
            "_model_name": "ProgressStyleModel",
            "description_width": "",
            "_view_module": "@jupyter-widgets/base",
            "_model_module_version": "1.5.0",
            "_view_count": null,
            "_view_module_version": "1.2.0",
            "bar_color": null,
            "_model_module": "@jupyter-widgets/controls"
          }
        },
        "312d47f45e134cba950f097eb9fc87db": {
          "model_module": "@jupyter-widgets/base",
          "model_name": "LayoutModel",
          "model_module_version": "1.2.0",
          "state": {
            "_view_name": "LayoutView",
            "grid_template_rows": null,
            "right": null,
            "justify_content": null,
            "_view_module": "@jupyter-widgets/base",
            "overflow": null,
            "_model_module_version": "1.2.0",
            "_view_count": null,
            "flex_flow": null,
            "width": null,
            "min_width": null,
            "border": null,
            "align_items": null,
            "bottom": null,
            "_model_module": "@jupyter-widgets/base",
            "top": null,
            "grid_column": null,
            "overflow_y": null,
            "overflow_x": null,
            "grid_auto_flow": null,
            "grid_area": null,
            "grid_template_columns": null,
            "flex": null,
            "_model_name": "LayoutModel",
            "justify_items": null,
            "grid_row": null,
            "max_height": null,
            "align_content": null,
            "visibility": null,
            "align_self": null,
            "height": null,
            "min_height": null,
            "padding": null,
            "grid_auto_rows": null,
            "grid_gap": null,
            "max_width": null,
            "order": null,
            "_view_module_version": "1.2.0",
            "grid_template_areas": null,
            "object_position": null,
            "object_fit": null,
            "grid_auto_columns": null,
            "margin": null,
            "display": null,
            "left": null
          }
        },
        "21a86c7125e1423ba152299ee32bfdce": {
          "model_module": "@jupyter-widgets/controls",
          "model_name": "DescriptionStyleModel",
          "model_module_version": "1.5.0",
          "state": {
            "_view_name": "StyleView",
            "_model_name": "DescriptionStyleModel",
            "description_width": "",
            "_view_module": "@jupyter-widgets/base",
            "_model_module_version": "1.5.0",
            "_view_count": null,
            "_view_module_version": "1.2.0",
            "_model_module": "@jupyter-widgets/controls"
          }
        },
        "36b121d8ed124b4ab8c10bd47c14701e": {
          "model_module": "@jupyter-widgets/base",
          "model_name": "LayoutModel",
          "model_module_version": "1.2.0",
          "state": {
            "_view_name": "LayoutView",
            "grid_template_rows": null,
            "right": null,
            "justify_content": null,
            "_view_module": "@jupyter-widgets/base",
            "overflow": null,
            "_model_module_version": "1.2.0",
            "_view_count": null,
            "flex_flow": null,
            "width": null,
            "min_width": null,
            "border": null,
            "align_items": null,
            "bottom": null,
            "_model_module": "@jupyter-widgets/base",
            "top": null,
            "grid_column": null,
            "overflow_y": null,
            "overflow_x": null,
            "grid_auto_flow": null,
            "grid_area": null,
            "grid_template_columns": null,
            "flex": null,
            "_model_name": "LayoutModel",
            "justify_items": null,
            "grid_row": null,
            "max_height": null,
            "align_content": null,
            "visibility": null,
            "align_self": null,
            "height": null,
            "min_height": null,
            "padding": null,
            "grid_auto_rows": null,
            "grid_gap": null,
            "max_width": null,
            "order": null,
            "_view_module_version": "1.2.0",
            "grid_template_areas": null,
            "object_position": null,
            "object_fit": null,
            "grid_auto_columns": null,
            "margin": null,
            "display": null,
            "left": null
          }
        },
        "63a06219cc864de78b9533c3d899bcf1": {
          "model_module": "@jupyter-widgets/controls",
          "model_name": "HBoxModel",
          "model_module_version": "1.5.0",
          "state": {
            "_view_name": "HBoxView",
            "_dom_classes": [],
            "_model_name": "HBoxModel",
            "_view_module": "@jupyter-widgets/controls",
            "_model_module_version": "1.5.0",
            "_view_count": null,
            "_view_module_version": "1.5.0",
            "box_style": "",
            "layout": "IPY_MODEL_ae9286d040c84dae8de90d1668621016",
            "_model_module": "@jupyter-widgets/controls",
            "children": [
              "IPY_MODEL_e0ef9e0a78a845f3a86c8b5271bbaf45",
              "IPY_MODEL_7deb44ea842c49c799eb19248701f840",
              "IPY_MODEL_c3e5f382a01b4055912c4b288addac86"
            ]
          }
        },
        "ae9286d040c84dae8de90d1668621016": {
          "model_module": "@jupyter-widgets/base",
          "model_name": "LayoutModel",
          "model_module_version": "1.2.0",
          "state": {
            "_view_name": "LayoutView",
            "grid_template_rows": null,
            "right": null,
            "justify_content": null,
            "_view_module": "@jupyter-widgets/base",
            "overflow": null,
            "_model_module_version": "1.2.0",
            "_view_count": null,
            "flex_flow": null,
            "width": null,
            "min_width": null,
            "border": null,
            "align_items": null,
            "bottom": null,
            "_model_module": "@jupyter-widgets/base",
            "top": null,
            "grid_column": null,
            "overflow_y": null,
            "overflow_x": null,
            "grid_auto_flow": null,
            "grid_area": null,
            "grid_template_columns": null,
            "flex": null,
            "_model_name": "LayoutModel",
            "justify_items": null,
            "grid_row": null,
            "max_height": null,
            "align_content": null,
            "visibility": null,
            "align_self": null,
            "height": null,
            "min_height": null,
            "padding": null,
            "grid_auto_rows": null,
            "grid_gap": null,
            "max_width": null,
            "order": null,
            "_view_module_version": "1.2.0",
            "grid_template_areas": null,
            "object_position": null,
            "object_fit": null,
            "grid_auto_columns": null,
            "margin": null,
            "display": null,
            "left": null
          }
        },
        "e0ef9e0a78a845f3a86c8b5271bbaf45": {
          "model_module": "@jupyter-widgets/controls",
          "model_name": "HTMLModel",
          "model_module_version": "1.5.0",
          "state": {
            "_view_name": "HTMLView",
            "style": "IPY_MODEL_4264d1b6caa94dc4893d375e99e3ec00",
            "_dom_classes": [],
            "description": "",
            "_model_name": "HTMLModel",
            "placeholder": "​",
            "_view_module": "@jupyter-widgets/controls",
            "_model_module_version": "1.5.0",
            "value": "100%",
            "_view_count": null,
            "_view_module_version": "1.5.0",
            "description_tooltip": null,
            "_model_module": "@jupyter-widgets/controls",
            "layout": "IPY_MODEL_969a147da2424e9ab22a806923a54aca"
          }
        },
        "7deb44ea842c49c799eb19248701f840": {
          "model_module": "@jupyter-widgets/controls",
          "model_name": "FloatProgressModel",
          "model_module_version": "1.5.0",
          "state": {
            "_view_name": "ProgressView",
            "style": "IPY_MODEL_d15e4488f3c44f588182299a4ebc4587",
            "_dom_classes": [],
            "description": "",
            "_model_name": "FloatProgressModel",
            "bar_style": "success",
            "max": 168,
            "_view_module": "@jupyter-widgets/controls",
            "_model_module_version": "1.5.0",
            "value": 168,
            "_view_count": null,
            "_view_module_version": "1.5.0",
            "orientation": "horizontal",
            "min": 0,
            "description_tooltip": null,
            "_model_module": "@jupyter-widgets/controls",
            "layout": "IPY_MODEL_d448d8a8efb54550a6061dca9bce38b8"
          }
        },
        "c3e5f382a01b4055912c4b288addac86": {
          "model_module": "@jupyter-widgets/controls",
          "model_name": "HTMLModel",
          "model_module_version": "1.5.0",
          "state": {
            "_view_name": "HTMLView",
            "style": "IPY_MODEL_abd3231ed10645999eba74e3588da300",
            "_dom_classes": [],
            "description": "",
            "_model_name": "HTMLModel",
            "placeholder": "​",
            "_view_module": "@jupyter-widgets/controls",
            "_model_module_version": "1.5.0",
            "value": " 168/168 [00:00&lt;00:00, 1824.87it/s]",
            "_view_count": null,
            "_view_module_version": "1.5.0",
            "description_tooltip": null,
            "_model_module": "@jupyter-widgets/controls",
            "layout": "IPY_MODEL_a4e779604c54467ea4158b41e068bfb5"
          }
        },
        "4264d1b6caa94dc4893d375e99e3ec00": {
          "model_module": "@jupyter-widgets/controls",
          "model_name": "DescriptionStyleModel",
          "model_module_version": "1.5.0",
          "state": {
            "_view_name": "StyleView",
            "_model_name": "DescriptionStyleModel",
            "description_width": "",
            "_view_module": "@jupyter-widgets/base",
            "_model_module_version": "1.5.0",
            "_view_count": null,
            "_view_module_version": "1.2.0",
            "_model_module": "@jupyter-widgets/controls"
          }
        },
        "969a147da2424e9ab22a806923a54aca": {
          "model_module": "@jupyter-widgets/base",
          "model_name": "LayoutModel",
          "model_module_version": "1.2.0",
          "state": {
            "_view_name": "LayoutView",
            "grid_template_rows": null,
            "right": null,
            "justify_content": null,
            "_view_module": "@jupyter-widgets/base",
            "overflow": null,
            "_model_module_version": "1.2.0",
            "_view_count": null,
            "flex_flow": null,
            "width": null,
            "min_width": null,
            "border": null,
            "align_items": null,
            "bottom": null,
            "_model_module": "@jupyter-widgets/base",
            "top": null,
            "grid_column": null,
            "overflow_y": null,
            "overflow_x": null,
            "grid_auto_flow": null,
            "grid_area": null,
            "grid_template_columns": null,
            "flex": null,
            "_model_name": "LayoutModel",
            "justify_items": null,
            "grid_row": null,
            "max_height": null,
            "align_content": null,
            "visibility": null,
            "align_self": null,
            "height": null,
            "min_height": null,
            "padding": null,
            "grid_auto_rows": null,
            "grid_gap": null,
            "max_width": null,
            "order": null,
            "_view_module_version": "1.2.0",
            "grid_template_areas": null,
            "object_position": null,
            "object_fit": null,
            "grid_auto_columns": null,
            "margin": null,
            "display": null,
            "left": null
          }
        },
        "d15e4488f3c44f588182299a4ebc4587": {
          "model_module": "@jupyter-widgets/controls",
          "model_name": "ProgressStyleModel",
          "model_module_version": "1.5.0",
          "state": {
            "_view_name": "StyleView",
            "_model_name": "ProgressStyleModel",
            "description_width": "",
            "_view_module": "@jupyter-widgets/base",
            "_model_module_version": "1.5.0",
            "_view_count": null,
            "_view_module_version": "1.2.0",
            "bar_color": null,
            "_model_module": "@jupyter-widgets/controls"
          }
        },
        "d448d8a8efb54550a6061dca9bce38b8": {
          "model_module": "@jupyter-widgets/base",
          "model_name": "LayoutModel",
          "model_module_version": "1.2.0",
          "state": {
            "_view_name": "LayoutView",
            "grid_template_rows": null,
            "right": null,
            "justify_content": null,
            "_view_module": "@jupyter-widgets/base",
            "overflow": null,
            "_model_module_version": "1.2.0",
            "_view_count": null,
            "flex_flow": null,
            "width": null,
            "min_width": null,
            "border": null,
            "align_items": null,
            "bottom": null,
            "_model_module": "@jupyter-widgets/base",
            "top": null,
            "grid_column": null,
            "overflow_y": null,
            "overflow_x": null,
            "grid_auto_flow": null,
            "grid_area": null,
            "grid_template_columns": null,
            "flex": null,
            "_model_name": "LayoutModel",
            "justify_items": null,
            "grid_row": null,
            "max_height": null,
            "align_content": null,
            "visibility": null,
            "align_self": null,
            "height": null,
            "min_height": null,
            "padding": null,
            "grid_auto_rows": null,
            "grid_gap": null,
            "max_width": null,
            "order": null,
            "_view_module_version": "1.2.0",
            "grid_template_areas": null,
            "object_position": null,
            "object_fit": null,
            "grid_auto_columns": null,
            "margin": null,
            "display": null,
            "left": null
          }
        },
        "abd3231ed10645999eba74e3588da300": {
          "model_module": "@jupyter-widgets/controls",
          "model_name": "DescriptionStyleModel",
          "model_module_version": "1.5.0",
          "state": {
            "_view_name": "StyleView",
            "_model_name": "DescriptionStyleModel",
            "description_width": "",
            "_view_module": "@jupyter-widgets/base",
            "_model_module_version": "1.5.0",
            "_view_count": null,
            "_view_module_version": "1.2.0",
            "_model_module": "@jupyter-widgets/controls"
          }
        },
        "a4e779604c54467ea4158b41e068bfb5": {
          "model_module": "@jupyter-widgets/base",
          "model_name": "LayoutModel",
          "model_module_version": "1.2.0",
          "state": {
            "_view_name": "LayoutView",
            "grid_template_rows": null,
            "right": null,
            "justify_content": null,
            "_view_module": "@jupyter-widgets/base",
            "overflow": null,
            "_model_module_version": "1.2.0",
            "_view_count": null,
            "flex_flow": null,
            "width": null,
            "min_width": null,
            "border": null,
            "align_items": null,
            "bottom": null,
            "_model_module": "@jupyter-widgets/base",
            "top": null,
            "grid_column": null,
            "overflow_y": null,
            "overflow_x": null,
            "grid_auto_flow": null,
            "grid_area": null,
            "grid_template_columns": null,
            "flex": null,
            "_model_name": "LayoutModel",
            "justify_items": null,
            "grid_row": null,
            "max_height": null,
            "align_content": null,
            "visibility": null,
            "align_self": null,
            "height": null,
            "min_height": null,
            "padding": null,
            "grid_auto_rows": null,
            "grid_gap": null,
            "max_width": null,
            "order": null,
            "_view_module_version": "1.2.0",
            "grid_template_areas": null,
            "object_position": null,
            "object_fit": null,
            "grid_auto_columns": null,
            "margin": null,
            "display": null,
            "left": null
          }
        },
        "60ffaf43949d47dcbcd14c3800955fdf": {
          "model_module": "@jupyter-widgets/controls",
          "model_name": "HBoxModel",
          "model_module_version": "1.5.0",
          "state": {
            "_view_name": "HBoxView",
            "_dom_classes": [],
            "_model_name": "HBoxModel",
            "_view_module": "@jupyter-widgets/controls",
            "_model_module_version": "1.5.0",
            "_view_count": null,
            "_view_module_version": "1.5.0",
            "box_style": "",
            "layout": "IPY_MODEL_9cd6991029794069a97562234878b280",
            "_model_module": "@jupyter-widgets/controls",
            "children": [
              "IPY_MODEL_140cd3717f1f42f8be04fd6993e6b5a0",
              "IPY_MODEL_934227acdadb44d79b8939f3f0313bcc",
              "IPY_MODEL_ac5770a2c604413ebcddaaabdb0e4257"
            ]
          }
        },
        "9cd6991029794069a97562234878b280": {
          "model_module": "@jupyter-widgets/base",
          "model_name": "LayoutModel",
          "model_module_version": "1.2.0",
          "state": {
            "_view_name": "LayoutView",
            "grid_template_rows": null,
            "right": null,
            "justify_content": null,
            "_view_module": "@jupyter-widgets/base",
            "overflow": null,
            "_model_module_version": "1.2.0",
            "_view_count": null,
            "flex_flow": null,
            "width": null,
            "min_width": null,
            "border": null,
            "align_items": null,
            "bottom": null,
            "_model_module": "@jupyter-widgets/base",
            "top": null,
            "grid_column": null,
            "overflow_y": null,
            "overflow_x": null,
            "grid_auto_flow": null,
            "grid_area": null,
            "grid_template_columns": null,
            "flex": null,
            "_model_name": "LayoutModel",
            "justify_items": null,
            "grid_row": null,
            "max_height": null,
            "align_content": null,
            "visibility": null,
            "align_self": null,
            "height": null,
            "min_height": null,
            "padding": null,
            "grid_auto_rows": null,
            "grid_gap": null,
            "max_width": null,
            "order": null,
            "_view_module_version": "1.2.0",
            "grid_template_areas": null,
            "object_position": null,
            "object_fit": null,
            "grid_auto_columns": null,
            "margin": null,
            "display": null,
            "left": null
          }
        },
        "140cd3717f1f42f8be04fd6993e6b5a0": {
          "model_module": "@jupyter-widgets/controls",
          "model_name": "HTMLModel",
          "model_module_version": "1.5.0",
          "state": {
            "_view_name": "HTMLView",
            "style": "IPY_MODEL_df2de9e100284d25bc93e5489c876a25",
            "_dom_classes": [],
            "description": "",
            "_model_name": "HTMLModel",
            "placeholder": "​",
            "_view_module": "@jupyter-widgets/controls",
            "_model_module_version": "1.5.0",
            "value": "100%",
            "_view_count": null,
            "_view_module_version": "1.5.0",
            "description_tooltip": null,
            "_model_module": "@jupyter-widgets/controls",
            "layout": "IPY_MODEL_db626fc80f7c48bb992406722f12f292"
          }
        },
        "934227acdadb44d79b8939f3f0313bcc": {
          "model_module": "@jupyter-widgets/controls",
          "model_name": "FloatProgressModel",
          "model_module_version": "1.5.0",
          "state": {
            "_view_name": "ProgressView",
            "style": "IPY_MODEL_9d428517389f4ebeb3dfbd0d54fd02a6",
            "_dom_classes": [],
            "description": "",
            "_model_name": "FloatProgressModel",
            "bar_style": "success",
            "max": 13,
            "_view_module": "@jupyter-widgets/controls",
            "_model_module_version": "1.5.0",
            "value": 13,
            "_view_count": null,
            "_view_module_version": "1.5.0",
            "orientation": "horizontal",
            "min": 0,
            "description_tooltip": null,
            "_model_module": "@jupyter-widgets/controls",
            "layout": "IPY_MODEL_3b4f7f363fa14c33a95d483d41e63c00"
          }
        },
        "ac5770a2c604413ebcddaaabdb0e4257": {
          "model_module": "@jupyter-widgets/controls",
          "model_name": "HTMLModel",
          "model_module_version": "1.5.0",
          "state": {
            "_view_name": "HTMLView",
            "style": "IPY_MODEL_f1f2b412aece4a2887bb7ca5cf6ec2b1",
            "_dom_classes": [],
            "description": "",
            "_model_name": "HTMLModel",
            "placeholder": "​",
            "_view_module": "@jupyter-widgets/controls",
            "_model_module_version": "1.5.0",
            "value": " 13/13 [00:00&lt;00:00, 376.53it/s]",
            "_view_count": null,
            "_view_module_version": "1.5.0",
            "description_tooltip": null,
            "_model_module": "@jupyter-widgets/controls",
            "layout": "IPY_MODEL_aef46547dc8745e59a45f5718bac8ae0"
          }
        },
        "df2de9e100284d25bc93e5489c876a25": {
          "model_module": "@jupyter-widgets/controls",
          "model_name": "DescriptionStyleModel",
          "model_module_version": "1.5.0",
          "state": {
            "_view_name": "StyleView",
            "_model_name": "DescriptionStyleModel",
            "description_width": "",
            "_view_module": "@jupyter-widgets/base",
            "_model_module_version": "1.5.0",
            "_view_count": null,
            "_view_module_version": "1.2.0",
            "_model_module": "@jupyter-widgets/controls"
          }
        },
        "db626fc80f7c48bb992406722f12f292": {
          "model_module": "@jupyter-widgets/base",
          "model_name": "LayoutModel",
          "model_module_version": "1.2.0",
          "state": {
            "_view_name": "LayoutView",
            "grid_template_rows": null,
            "right": null,
            "justify_content": null,
            "_view_module": "@jupyter-widgets/base",
            "overflow": null,
            "_model_module_version": "1.2.0",
            "_view_count": null,
            "flex_flow": null,
            "width": null,
            "min_width": null,
            "border": null,
            "align_items": null,
            "bottom": null,
            "_model_module": "@jupyter-widgets/base",
            "top": null,
            "grid_column": null,
            "overflow_y": null,
            "overflow_x": null,
            "grid_auto_flow": null,
            "grid_area": null,
            "grid_template_columns": null,
            "flex": null,
            "_model_name": "LayoutModel",
            "justify_items": null,
            "grid_row": null,
            "max_height": null,
            "align_content": null,
            "visibility": null,
            "align_self": null,
            "height": null,
            "min_height": null,
            "padding": null,
            "grid_auto_rows": null,
            "grid_gap": null,
            "max_width": null,
            "order": null,
            "_view_module_version": "1.2.0",
            "grid_template_areas": null,
            "object_position": null,
            "object_fit": null,
            "grid_auto_columns": null,
            "margin": null,
            "display": null,
            "left": null
          }
        },
        "9d428517389f4ebeb3dfbd0d54fd02a6": {
          "model_module": "@jupyter-widgets/controls",
          "model_name": "ProgressStyleModel",
          "model_module_version": "1.5.0",
          "state": {
            "_view_name": "StyleView",
            "_model_name": "ProgressStyleModel",
            "description_width": "",
            "_view_module": "@jupyter-widgets/base",
            "_model_module_version": "1.5.0",
            "_view_count": null,
            "_view_module_version": "1.2.0",
            "bar_color": null,
            "_model_module": "@jupyter-widgets/controls"
          }
        },
        "3b4f7f363fa14c33a95d483d41e63c00": {
          "model_module": "@jupyter-widgets/base",
          "model_name": "LayoutModel",
          "model_module_version": "1.2.0",
          "state": {
            "_view_name": "LayoutView",
            "grid_template_rows": null,
            "right": null,
            "justify_content": null,
            "_view_module": "@jupyter-widgets/base",
            "overflow": null,
            "_model_module_version": "1.2.0",
            "_view_count": null,
            "flex_flow": null,
            "width": null,
            "min_width": null,
            "border": null,
            "align_items": null,
            "bottom": null,
            "_model_module": "@jupyter-widgets/base",
            "top": null,
            "grid_column": null,
            "overflow_y": null,
            "overflow_x": null,
            "grid_auto_flow": null,
            "grid_area": null,
            "grid_template_columns": null,
            "flex": null,
            "_model_name": "LayoutModel",
            "justify_items": null,
            "grid_row": null,
            "max_height": null,
            "align_content": null,
            "visibility": null,
            "align_self": null,
            "height": null,
            "min_height": null,
            "padding": null,
            "grid_auto_rows": null,
            "grid_gap": null,
            "max_width": null,
            "order": null,
            "_view_module_version": "1.2.0",
            "grid_template_areas": null,
            "object_position": null,
            "object_fit": null,
            "grid_auto_columns": null,
            "margin": null,
            "display": null,
            "left": null
          }
        },
        "f1f2b412aece4a2887bb7ca5cf6ec2b1": {
          "model_module": "@jupyter-widgets/controls",
          "model_name": "DescriptionStyleModel",
          "model_module_version": "1.5.0",
          "state": {
            "_view_name": "StyleView",
            "_model_name": "DescriptionStyleModel",
            "description_width": "",
            "_view_module": "@jupyter-widgets/base",
            "_model_module_version": "1.5.0",
            "_view_count": null,
            "_view_module_version": "1.2.0",
            "_model_module": "@jupyter-widgets/controls"
          }
        },
        "aef46547dc8745e59a45f5718bac8ae0": {
          "model_module": "@jupyter-widgets/base",
          "model_name": "LayoutModel",
          "model_module_version": "1.2.0",
          "state": {
            "_view_name": "LayoutView",
            "grid_template_rows": null,
            "right": null,
            "justify_content": null,
            "_view_module": "@jupyter-widgets/base",
            "overflow": null,
            "_model_module_version": "1.2.0",
            "_view_count": null,
            "flex_flow": null,
            "width": null,
            "min_width": null,
            "border": null,
            "align_items": null,
            "bottom": null,
            "_model_module": "@jupyter-widgets/base",
            "top": null,
            "grid_column": null,
            "overflow_y": null,
            "overflow_x": null,
            "grid_auto_flow": null,
            "grid_area": null,
            "grid_template_columns": null,
            "flex": null,
            "_model_name": "LayoutModel",
            "justify_items": null,
            "grid_row": null,
            "max_height": null,
            "align_content": null,
            "visibility": null,
            "align_self": null,
            "height": null,
            "min_height": null,
            "padding": null,
            "grid_auto_rows": null,
            "grid_gap": null,
            "max_width": null,
            "order": null,
            "_view_module_version": "1.2.0",
            "grid_template_areas": null,
            "object_position": null,
            "object_fit": null,
            "grid_auto_columns": null,
            "margin": null,
            "display": null,
            "left": null
          }
        }
      }
    }
  },
  "cells": [
    {
      "cell_type": "code",
      "metadata": {
        "id": "jXAUJ20jsQMA"
      },
      "source": [
        "# I have obtained the dataset from the following github page, which is open source by the way\n",
        "# Git Hub URL: https://github.com/seva100/optic-nerve-cnn\n",
        "# Data URL: https://drive.google.com/drive/folders/13g62bhqN1JHJ2fky2Xy5avLbZ2YLMdwB"
      ],
      "execution_count": null,
      "outputs": []
    },
    {
      "cell_type": "code",
      "metadata": {
        "id": "EKQTDqYJuIcW"
      },
      "source": [
        "# Import \n",
        "import tensorflow as tf\n",
        "import os\n",
        "import glob\n",
        "from datetime import datetime\n",
        "import warnings\n",
        "warnings.simplefilter('ignore')\n",
        "import scipy as sp\n",
        "import scipy.ndimage\n",
        "import numpy as np\n",
        "import pandas as pd\n",
        "import skimage\n",
        "import skimage.exposure\n",
        "import skimage.transform\n",
        "import skimage.measure\n",
        "from PIL import Image\n",
        "import matplotlib.pyplot as plt\n",
        "%matplotlib inline\n",
        "import cv2\n",
        "import h5py\n",
        "from tqdm import tqdm_notebook\n",
        "from IPython.display import display\n",
        "from tensorflow.keras.models import Sequential, Model\n",
        "from tensorflow.keras import layers as layers\n",
        "from tensorflow.keras.layers import Dense, Dropout, Activation, Flatten, BatchNormalization, Conv2D, MaxPooling2D, ZeroPadding2D, Input, Embedding, LSTM, Lambda, UpSampling2D, concatenate, Conv2DTranspose\n",
        "from tensorflow.keras.utils import plot_model\n",
        "from tensorflow.keras.optimizers import SGD, Adam, Adagrad\n",
        "from tensorflow.keras.callbacks import ModelCheckpoint, LearningRateScheduler, ReduceLROnPlateau, CSVLogger\n",
        "from tensorflow.keras.preprocessing.image import ImageDataGenerator\n",
        "from tensorflow.keras import backend as K\n",
        "from sklearn.model_selection import train_test_split\n",
        "import math\n",
        "from skimage.transform import hough_ellipse\n",
        "from skimage.draw import ellipse_perimeter, ellipse\n",
        "from skimage.measure import  ransac, EllipseModel\n",
        "from skimage.morphology import dilation\n",
        "from skimage.feature import canny\n",
        "from skimage import color\n",
        "from sklearn.model_selection import KFold"
      ],
      "execution_count": null,
      "outputs": []
    },
    {
      "cell_type": "code",
      "metadata": {
        "id": "EbKCnyBEuSqa"
      },
      "source": [
        "# Initialization\n",
        "train=True\n",
        "Epochs=30\n",
        "preload=False\n",
        "hough=False\n",
        "rams=False\n",
        "dynAug=False\n",
        "depth = 6\n",
        "chan = 64\n",
        "ir = 1.1\n",
        "rand_sv = 42\n",
        "ds = 'MIX'\n",
        "zone = 'DISK'\n",
        "cup = False\n",
        "mix = True\n",
        "dri = False\n",
        "rim = False\n",
        "drions = False\n",
        "smooth=1e-07"
      ],
      "execution_count": null,
      "outputs": []
    },
    {
      "cell_type": "code",
      "metadata": {
        "colab": {
          "base_uri": "https://localhost:8080/"
        },
        "id": "1kJV9mohudKt",
        "outputId": "829c66ae-889c-4e92-e08d-f5f8a4e820c8"
      },
      "source": [
        "#Mount Google drive to read the files from\n",
        "from google.colab import drive\n",
        "drive.mount('/content/gdrive')"
      ],
      "execution_count": null,
      "outputs": [
        {
          "output_type": "stream",
          "name": "stdout",
          "text": [
            "Drive already mounted at /content/gdrive; to attempt to forcibly remount, call drive.mount(\"/content/gdrive\", force_remount=True).\n"
          ]
        }
      ]
    },
    {
      "cell_type": "markdown",
      "metadata": {
        "id": "UskE0BNewTg-"
      },
      "source": [
        "<h1><center>Define the Functions</center></h1>"
      ]
    },
    {
      "cell_type": "code",
      "metadata": {
        "id": "hM3osERruuwS"
      },
      "source": [
        "# let's set tensorflow backend working type to be float\n",
        "K.set_floatx('float32')"
      ],
      "execution_count": null,
      "outputs": []
    },
    {
      "cell_type": "code",
      "metadata": {
        "id": "Zh_f0iqIu8K8"
      },
      "source": [
        "def dice_coef(y_true, y_pred):\n",
        "    y_true_f = K.flatten(y_true)\n",
        "    y_pred_f = K.flatten(y_pred)\n",
        "    intersection = K.sum(y_true_f * y_pred_f)\n",
        "    return (2. * intersection + K.epsilon()) / (K.sum(y_true_f) + K.sum(y_pred_f) + K.epsilon())\n",
        "  \n",
        "def dice_loss(y_true,y_pred):\n",
        "    return -dice_coef(y_true,y_pred)\n",
        "  \n",
        "def log_dice_loss(y_true, y_pred):\n",
        "    return -K.log(dice_coef(y_true, y_pred))\n",
        "\n",
        "# Computes mean Intersection-over-Union (IOU) for two arrays of binary images.\n",
        "\n",
        "def iou_loss_core(y_true, y_pred, smooth=1):\n",
        "    intersection = K.sum(K.abs(y_true * y_pred), axis=-1)\n",
        "    union = K.sum(y_true,-1) + K.sum(y_pred,-1) - intersection\n",
        "    iou = (intersection + smooth) / (union + smooth)\n",
        "    return iou"
      ],
      "execution_count": null,
      "outputs": []
    },
    {
      "cell_type": "code",
      "metadata": {
        "id": "j9gjBLM3vCvn"
      },
      "source": [
        "# helper function to increase the brightness\n",
        "# hue, saturation, value\n",
        "def modify_brightness_p(img, p=1.2):\n",
        "    hsv = cv2.cvtColor(img, cv2.COLOR_BGR2HSV)\n",
        "    h, s, v = cv2.split(hsv)\n",
        "\n",
        "    lim = 1.0/p\n",
        "    v[v > lim] = 1.0\n",
        "    v[v <= lim] *= p\n",
        "\n",
        "    final_hsv = cv2.merge((h, s, v))\n",
        "    img = cv2.cvtColor(final_hsv, cv2.COLOR_HSV2BGR).clip(min=0)\n",
        "    return img"
      ],
      "execution_count": null,
      "outputs": []
    },
    {
      "cell_type": "code",
      "metadata": {
        "id": "Qn1ljiSVvJDA"
      },
      "source": [
        "# helper code to shuffle\n",
        "def unison_shuffled_copies(a, b):\n",
        "    assert len(a) == len(b)\n",
        "    p = np.random.permutation(len(a))\n",
        "    return a[p], b[p]"
      ],
      "execution_count": null,
      "outputs": []
    },
    {
      "cell_type": "code",
      "metadata": {
        "id": "LlreDsw0vOLO"
      },
      "source": [
        "# helper code to 512 image size indices with original images\n",
        "def index512_resize(index,top):\n",
        "  index=index*top/512"
      ],
      "execution_count": null,
      "outputs": []
    },
    {
      "cell_type": "code",
      "metadata": {
        "id": "DYG8WUzh8kK0"
      },
      "source": [
        "def np_dice_coef(y_true, y_pred):\n",
        "    y_true_f = y_true.flatten()\n",
        "    y_pred_f = y_pred.flatten()\n",
        "    intersection = np.sum(y_true_f * y_pred_f)\n",
        "    return ( (2. * intersection + smooth) / \n",
        "             (np.sum(y_true_f) + np.sum(y_pred_f) + smooth) )\n",
        "    \n",
        "def np_iou(y_true, y_pred):\n",
        "    y_true_f = y_true.flatten()\n",
        "    y_pred_f = y_pred.flatten()\n",
        "    intersection = np.sum(y_true_f * y_pred_f)\n",
        "    return ( ( intersection + smooth) / \n",
        "             (np.sum(y_true_f) + np.sum(y_pred_f) - intersection + smooth) )"
      ],
      "execution_count": null,
      "outputs": []
    },
    {
      "cell_type": "markdown",
      "metadata": {
        "id": "nKAdc44ewA4F"
      },
      "source": [
        "<h1><center>Load Data</center></h1>"
      ]
    },
    {
      "cell_type": "code",
      "metadata": {
        "id": "6DOE8bi1vVay"
      },
      "source": [
        "# Load data\n",
        "h5f1 = h5py.File(os.path.join(os.path.dirname(os.getcwd()), '/content/gdrive/MyDrive/Datasets/OD_CUP', 'RIM_ONE_v3.hdf5'), 'r')\n",
        "h5f2 = h5py.File(os.path.join(os.path.dirname(os.getcwd()), '/content/gdrive/MyDrive/Datasets/OD_CUP', 'DRISHTI_GS.hdf5'), 'r')\n",
        "h5v1 = h5py.File(os.path.join(os.path.dirname(os.getcwd()), '/content/gdrive/MyDrive/Datasets/OD_CUP', 'DRIONS_DB.hdf5'), 'r')"
      ],
      "execution_count": null,
      "outputs": []
    },
    {
      "cell_type": "markdown",
      "metadata": {
        "id": "wurp2i9wwdRg"
      },
      "source": [
        "<h1><center>U-Net Architecture</center></h1>"
      ]
    },
    {
      "cell_type": "code",
      "metadata": {
        "id": "yZMedxzTwh-s"
      },
      "source": [
        "# U-Net: Convolutional Networks for Biomedical Image Segmentation\n",
        "# (https://arxiv.org/abs/1505.04597)\n",
        "\n",
        "def conv_block(m, dim, acti, bn, res, do=0):\n",
        "\tn = Conv2D(dim, 3, activation=acti, padding='same')(m)\n",
        "\tn = BatchNormalization()(n) if bn else n\n",
        "\tn = Dropout(do)(n) if do else n\n",
        "\tn = Conv2D(dim, 3, activation=acti, padding='same')(n)\n",
        "\tn = BatchNormalization()(n) if bn else n\n",
        "\treturn Concatenate()([m, n]) if res else n\n",
        "\n",
        "def level_block(m, dim, depth, inc, acti, do, bn, mp, up, res):\n",
        "\tif depth > 0:\n",
        "\t\tn = conv_block(m, dim, acti, bn, res)\n",
        "\t\tm = MaxPooling2D()(n) if mp else Conv2D(dim, 3, strides=2, padding='same')(n)\n",
        "\t\tm = level_block(m, int(inc*dim), depth-1, inc, acti, do, bn, mp, up, res)\n",
        "\t\tif up:\n",
        "\t\t\tm = UpSampling2D()(m)\n",
        "\t\t\tm = Conv2D(dim, 2, activation=acti, padding='same')(m)\n",
        "\t\telse:\n",
        "\t\t\tm = Conv2DTranspose(dim, 3, strides=2, activation=acti, padding='same')(m)\n",
        "\t\tn = concatenate([n, m],axis=-1)\n",
        "\t\tm = conv_block(n, dim, acti, bn, res)\n",
        "\telse:\n",
        "\t\tm = conv_block(m, dim, acti, bn, res, do)\n",
        "\treturn m\n",
        "\n",
        "def UNet(img_shape, out_ch=1, start_ch=64, depth=4, inc_rate=2., activation='relu', \n",
        "\t\t dropout=0.5, batchnorm=False, maxpool=True, upconv=True, residual=False):\n",
        "\ti = Input(shape=img_shape)\n",
        "\to = level_block(i, start_ch, depth, inc_rate, activation, dropout, batchnorm, maxpool, upconv, residual)\n",
        "\to = Conv2D(out_ch, 1, activation='sigmoid')(o)\n",
        "\treturn Model(inputs=i, outputs=o)"
      ],
      "execution_count": null,
      "outputs": []
    },
    {
      "cell_type": "code",
      "metadata": {
        "id": "5aGxQUSvwxug"
      },
      "source": [
        "# We can find data preprocessing steps below\n",
        "# step1: prepare the data for our model injection\n",
        "# step2: Create train and test set by combining datasets\n",
        "# Step3: Preprocessing step for Cup Segmentation\n",
        "# step4: Shuffle the dataset"
      ],
      "execution_count": null,
      "outputs": []
    },
    {
      "cell_type": "code",
      "metadata": {
        "id": "h31OR8sFw9fo"
      },
      "source": [
        "img_shape=(128,128,3)"
      ],
      "execution_count": null,
      "outputs": []
    },
    {
      "cell_type": "markdown",
      "metadata": {
        "id": "AoKyIT5CxnAQ"
      },
      "source": [
        "<h1><center>Step1: Prepare The Data for our Model Injection</center></h1>"
      ]
    },
    {
      "cell_type": "code",
      "metadata": {
        "colab": {
          "base_uri": "https://localhost:8080/"
        },
        "id": "ARV_NIuTxVhW",
        "outputId": "866ebf44-42d3-4d0e-a688-deb517375bd6"
      },
      "source": [
        "# DRISHTI Dataset\n",
        "Xori= np.asarray(h5f2['DRISHTI-GS/orig/images'])\n",
        "disc_locations = np.asarray( h5f2['DRISHTI-GS/512 px/disc_locations'])\n",
        "FC = np.asarray(h5f2['DRISHTI-GS/512 px/file_codes'] ) \n",
        "indDRI = np.arange(0,Xori.shape[0])\n",
        "bsqside=np.maximum((disc_locations[:,3]-disc_locations[:,1]),(disc_locations[:,2]-disc_locations[:,0]))\n",
        "isize=Xori.shape[1]\n",
        "\n",
        "if (cup):\n",
        "  \n",
        "  Yf = np.asarray(h5f2['DRISHTI-GS/512 px/cup'])\n",
        " \n",
        "  Xc = [Xori[i][index512_resize(disc_locations[i][0],isize):index512_resize(disc_locations[i][0]+bsqside[i],isize), index512_resize(disc_locations[i][1],isize):index512_resize(disc_locations[i][1]+bsqside[i],isize)] \n",
        "                   for i in range(len(Xori))]\n",
        "\n",
        "  Yc=[Yf[i][disc_locations[i][0]:disc_locations[i][0]+bsqside[i], disc_locations[i][1]:disc_locations[i][1]+bsqside[i]] \n",
        "                   for i in range(len(Xori))]\n",
        "\n",
        "else:\n",
        "  Yf =np.asarray( h5f2['DRISHTI-GS/512 px/disc'])\n",
        "  \n",
        "  Xc = [Xori[i][index512_resize(50,isize):index512_resize(462,isize), index512_resize(50,isize):index512_resize(462,isize)] \n",
        "                   for i in range(len(Xori))]\n",
        "\n",
        "  Yc=[Yf[i][50:462,50:462] \n",
        "                   for i in range(len(Xori))]\n",
        "\n",
        "X=[cv2.resize(img, (128, 128),interpolation=cv2.INTER_NEAREST) for img in Xc]\n",
        "X=np.asarray(X) \n",
        "am=np.amax(X)\n",
        "X=X.astype(np.float32)/am \n",
        "print(np.amax(X),np.amin(X))\n",
        "\n",
        "Y=[cv2.resize(img, (128, 128),interpolation=cv2.INTER_NEAREST)[..., None] for img in Yc]\n",
        "Y=np.asarray(Y) \n",
        "ym=np.amax(Y) \n",
        "Yf=Y/ym\n",
        "#get binary mask\n",
        "Yb=(Y>0.5).astype(np.float32) \n",
        "\n",
        "print(np.amax(Yf),np.amin(Yf))\n",
        "print(X.shape)"
      ],
      "execution_count": null,
      "outputs": [
        {
          "output_type": "stream",
          "name": "stdout",
          "text": [
            "1.0 0.0\n",
            "1.0 0.0\n",
            "(50, 128, 128, 3)\n"
          ]
        }
      ]
    },
    {
      "cell_type": "code",
      "metadata": {
        "colab": {
          "base_uri": "https://localhost:8080/"
        },
        "id": "R2uABBP7x0eH",
        "outputId": "c7835f05-ed4e-4372-f099-f25705a7b6d4"
      },
      "source": [
        "# RIM ONE V_3 Dataset\n",
        "\n",
        "Xvori= h5f1['RIM-ONE v3/orig/images']\n",
        "disc_locationsv = h5f1['RIM-ONE v3/512 px/disc_locations']\n",
        "Glauv=np.asarray(h5f1['RIM-ONE v3/512 px/is_ill'] )\n",
        "FCv=np.asarray(h5f1['RIM-ONE v3/512 px/file_codes'])\n",
        "indRIM=np.arange(0,Xvori.shape[0])\n",
        "bsqsidev=np.maximum((disc_locationsv[:,3]-disc_locationsv[:,1]),(disc_locationsv[:,2]-disc_locationsv[:,0]))\n",
        "low_cont_n=0;\n",
        "ivsize=Xvori.shape[1]\n",
        "\n",
        "if (cup):\n",
        "\n",
        "  Yvf = h5f1['RIM-ONE v3/512 px/cup']\n",
        "\n",
        "  Xvc = [Xvori[i][index512_resize(disc_locationsv[i][0],ivsize):index512_resize(disc_locationsv[i][0]+bsqsidev[i],ivsize), index512_resize(disc_locationsv[i][1],ivsize):index512_resize(disc_locationsv[i][1]+bsqsidev[i],ivsize)] \n",
        "                     for i in range(len(Xvori))]\n",
        "\n",
        "  Yvc=[Yvf[i][disc_locationsv[i][0]:disc_locationsv[i][0]+bsqsidev[i], disc_locationsv[i][1]:disc_locationsv[i][1]+bsqsidev[i]] \n",
        "                     for i in range(len(Xvori))]\n",
        "\n",
        "else:\n",
        "\n",
        "  Yvf = h5f1['RIM-ONE v3/512 px/disc']\n",
        "\n",
        "  Xvc = [Xvori[i][index512_resize(50,isize):index512_resize(462,ivsize), index512_resize(50,isize):index512_resize(462,ivsize)] \n",
        "                     for i in range(len(Xvori))]\n",
        "\n",
        "  Yvc=[Yvf[i][50:462,50:462] \n",
        "                     for i in range(len(Xvori))]\n",
        "\n",
        "\n",
        "Xvn=[cv2.resize(img, (128, 128),interpolation=cv2.INTER_NEAREST) for img in Xvc]\n",
        "Xv=np.asarray(Xvn) \n",
        "am=np.amax(Xv)\n",
        "Xv=Xv.astype(np.float32)/am \n",
        "print(np.amax(Xv),np.amin(Xv))\n",
        "\n",
        "Yv=[cv2.resize(img, (128, 128),interpolation=cv2.INTER_NEAREST)[..., None] for img in Yvc]\n",
        "Yv=np.asarray(Yv) \n",
        "ym=np.amax(Yv) \n",
        "Yvf=(Yv/ym).astype(np.float32) \n",
        "\n",
        "print(np.amax(Yvf),np.amin(Yvf))\n",
        "print(Xv.shape)"
      ],
      "execution_count": null,
      "outputs": [
        {
          "output_type": "stream",
          "name": "stdout",
          "text": [
            "1.0 0.0\n",
            "1.0 0.0\n",
            "(159, 128, 128, 3)\n"
          ]
        }
      ]
    },
    {
      "cell_type": "code",
      "metadata": {
        "colab": {
          "base_uri": "https://localhost:8080/"
        },
        "id": "jxC55HedB72Q",
        "outputId": "5ab462a8-0d9b-4fc7-ba6d-bfc7d835698f"
      },
      "source": [
        "# DRIONS_DB Dataset\n",
        "Xvori= h5v1['DRIONS-DB/256 px/images']\n",
        "disc_locationsv = h5v1['DRIONS-DB/256 px/disc']\n",
        "#Glauv=np.asarray(h5v1['DRIONS_DB/256 px/is_ill'] )\n",
        "FCd=np.asarray(h5v1['DRIONS-DB/256 px/file_codes'])\n",
        "indDRIONS=np.arange(0,Xvori.shape[0])\n",
        "bsqsidev=np.maximum((disc_locationsv[:,3]-disc_locationsv[:,1]),(disc_locationsv[:,2]-disc_locationsv[:,0]))\n",
        "low_cont_n=0;\n",
        "ivsize=Xvori.shape[1]\n",
        "\n",
        "if (cup):\n",
        "\n",
        "  Yd = h5v1['DRIONS_DB v3/512 px/cup']\n",
        "\n",
        "  Xvc = [Xvori[i][index512_resize(disc_locationsv[i][0],ivsize):index512_resize(disc_locationsv[i][0]+bsqsidev[i],ivsize), index512_resize(disc_locationsv[i][1],ivsize):index512_resize(disc_locationsv[i][1]+bsqsidev[i],ivsize)] \n",
        "                     for i in range(len(Xvori))]\n",
        "\n",
        "  Yvc=[Yd[i][disc_locationsv[i][0]:disc_locationsv[i][0]+bsqsidev[i], disc_locationsv[i][1]:disc_locationsv[i][1]+bsqsidev[i]] \n",
        "                     for i in range(len(Xvori))]\n",
        "\n",
        "else:\n",
        "\n",
        "  Yd = h5v1['DRIONS-DB/256 px/disc']\n",
        "\n",
        "  Xvc = [Xvori[i][index512_resize(50,isize):index512_resize(462,ivsize), index512_resize(50,isize):index512_resize(462,ivsize)] \n",
        "                     for i in range(len(Xvori))]\n",
        "\n",
        "  Yvc=[Yd[i][50:462,50:462] \n",
        "                     for i in range(len(Xvori))]\n",
        "\n",
        "\n",
        "Xvn=[cv2.resize(img, (128, 128),interpolation=cv2.INTER_NEAREST) for img in Xvc]\n",
        "Xd=np.asarray(Xvn) \n",
        "am=np.amax(Xd)\n",
        "Xd=Xd.astype(np.float32)/am \n",
        "print(np.amax(Xd),np.amin(Xd))\n",
        "\n",
        "Yv=[cv2.resize(img, (128, 128),interpolation=cv2.INTER_NEAREST)[..., None] for img in Yvc]\n",
        "Yv=np.asarray(Yv) \n",
        "ym=np.amax(Yv) \n",
        "Yd=(Yv/ym).astype(np.float32) \n",
        "\n",
        "print(np.amax(Yd),np.amin(Yd))\n",
        "print(Xd.shape)"
      ],
      "execution_count": null,
      "outputs": [
        {
          "output_type": "stream",
          "name": "stdout",
          "text": [
            "1.0 0.0\n",
            "1.0 0.0\n",
            "(110, 128, 128, 3)\n"
          ]
        }
      ]
    },
    {
      "cell_type": "markdown",
      "metadata": {
        "id": "ILBoHPtiyKqj"
      },
      "source": [
        "<h1><center>Step 2: Create train and test set by combining datasets</center></h1>"
      ]
    },
    {
      "cell_type": "code",
      "metadata": {
        "id": "G-HKqmaByTdY"
      },
      "source": [
        "rng = np.random.RandomState(rand_sv)\n",
        "\n",
        "#DRISHTI\n",
        "X_train1t, X_test1t, Y_train1t, Y_test1t, F_train1t, F_test1t ,ind_train1, ind_test1= train_test_split( X, Yb, FC, indDRI,test_size=0.25,random_state=rng)\n",
        "\n",
        "#RIM ONE\n",
        "X_train2, X_test2, Y_train2, Y_test2, F_train2, F_test2, ind_train2, ind_test2= train_test_split( Xv, Yvf, FCv, indRIM, test_size=0.25,random_state=rng)\n",
        "\n",
        "#DRIONS\n",
        "X_train3, X_test3, Y_train3, Y_test3, F_train3, F_test3, ind_train3, ind_test3= train_test_split( Xd, Yd, FCd, indDRIONS, test_size=0.25,random_state=rng)\n",
        "\n",
        "\n",
        "X_test_dri=np.copy(X_test1t)\n",
        "Y_test_dri=np.copy(Y_test1t)\n",
        "F_test_dri=np.copy(F_test1t)\n",
        "\n",
        "X_test_rim=np.copy(X_test2)\n",
        "Y_test_rim=np.copy(Y_test2)\n",
        "F_test_rim=np.copy(F_test2)\n",
        "\n",
        "X_test_drions=np.copy(X_test3)\n",
        "Y_test_drions=np.copy(Y_test3)\n",
        "F_test_drions=np.copy(F_test3)\n",
        "\n",
        "if(dri or mix):\n",
        "  X_train1=np.concatenate([X_train1t,X_train1t])\n",
        "  X_train1=np.concatenate([X_train1,X_train1t])\n",
        "  X_test1=np.concatenate([X_test1t,X_test1t])\n",
        "  X_test1=np.concatenate([X_test1,X_test1t])\n",
        "\n",
        "  Y_train1=np.concatenate([Y_train1t,Y_train1t])\n",
        "  Y_train1=np.concatenate([Y_train1,Y_train1t])\n",
        "  Y_test1=np.concatenate([Y_test1t,Y_test1t])\n",
        "  Y_test1=np.concatenate([Y_test1,Y_test1t])\n",
        "\n",
        "if(mix):\n",
        "  X_train1=np.concatenate([X_train1,X_train2,X_train3])\n",
        "  Y_train1=np.concatenate([Y_train1,Y_train2,Y_train3])\n",
        "  X_test1=np.concatenate([X_test1,X_test2,X_test3])\n",
        "  Y_test1=np.concatenate([Y_test1,Y_test2,Y_test3])\n",
        "\n",
        "\n",
        "  X_train1=np.concatenate([X_train1,X_train2,X_train3])\n",
        "  Y_train1=np.concatenate([Y_train1,Y_train2,Y_train3])\n",
        "  X_test1=np.concatenate([X_test1,X_test2,X_test3])\n",
        "  Y_test1=np.concatenate([Y_test1,Y_test2,Y_test3])\n",
        "\n",
        "if(rim):\n",
        "  X_train1=np.concatenate([X_train2,X_train2])\n",
        "  X_test1=np.concatenate([X_test2,X_test2])\n",
        "\n",
        "  Y_train1=np.concatenate([Y_train2,Y_train2])\n",
        "  Y_test1=np.concatenate([Y_test2,Y_test2])\n",
        "\n",
        "if(dri):\n",
        "  X_train1=np.concatenate([X_train1,X_train1])\n",
        "  Y_train1=np.concatenate([Y_train1,Y_train1])\n",
        "\n",
        "if(drions):\n",
        "  X_train1=np.concatenate([X_train3,X_train3])\n",
        "  X_test1=np.concatenate([X_test3,X_test3])\n",
        "\n",
        "  Y_train1=np.concatenate([Y_train3,Y_train3])\n",
        "  Y_test1=np.concatenate([Y_test3,Y_test3])\n",
        "\n",
        "X_train1=np.asarray(X_train1)\n",
        "Y_train1=np.asarray(Y_train1)\n",
        "X_test=np.asarray(X_test1)\n",
        "Y_test=np.asarray(Y_test1)\n",
        "\n",
        "X_train=np.copy(X_train1)\n",
        "Y_train=np.copy(Y_train1)\n",
        "\n",
        "size=X_train1.shape[0]\n",
        "\n",
        "X_traine=np.empty((20*size, 128, 128, 3),dtype=np.float32)\n",
        "Y_traine=np.empty((20*size, 128, 128, 1),dtype=np.float32)"
      ],
      "execution_count": null,
      "outputs": []
    },
    {
      "cell_type": "markdown",
      "metadata": {
        "id": "lX-WXe9VyoeI"
      },
      "source": [
        "<h1><center>Step 3: Preprocessing step for Cup Segmentation</center></h1>"
      ]
    },
    {
      "cell_type": "code",
      "metadata": {
        "colab": {
          "base_uri": "https://localhost:8080/",
          "height": 81,
          "referenced_widgets": [
            "fc6a11e7c76048649c644ff42841e0f8",
            "d786ab99ee3c432183139e20db85a05d",
            "b25705a2fcf243f8906c05dbd1267a97",
            "3210fa7eb02643c8bf888158f2aece61",
            "500762647613444cb84e1f3608377864",
            "d26b118204d044c1b8c355972800cde8",
            "fe2b0a336e30423b9c6ec468505d9318",
            "acdce5d628cd49e597d809d021cab843",
            "0089f94de8a1488386f5825006a00750",
            "6e9db038d3274af3bc4a74f69bd681f7",
            "26cb845e5e994098b8a98385ef4768ab",
            "caaf05731d164ce7ac71241f3045bae2",
            "9e8b661ba04246d8a580cc4e9d32c762",
            "84a542b2845e42d68c5f01ee5d4aa78b",
            "b5483fc32af84f82b1513cbe92bd71b7",
            "d9028af939324023823c50e02038398e",
            "51897e8fccf640278205be2fd6b2a500",
            "4680e143c5d84bb594e655fcc9556cba",
            "b98ae9a1cf9c4735b2b27ba284871be3",
            "312d47f45e134cba950f097eb9fc87db",
            "21a86c7125e1423ba152299ee32bfdce",
            "36b121d8ed124b4ab8c10bd47c14701e"
          ]
        },
        "id": "IA1IKkqvyxLH",
        "outputId": "fa1c9451-01d8-4b6f-ea84-84426e30b879"
      },
      "source": [
        "# Perform CLAHE on each image\n",
        "\n",
        "for i in range(16):\n",
        "  X_traine[i*size:(i+1)*size]=X_train1\n",
        "  Y_traine[i*size:(i+1)*size]=Y_train1\n",
        "  \n",
        "base= 16*size\n",
        "\n",
        "for j in tqdm_notebook(range(X_train1.shape[0])):\n",
        "  X_traine[base]=skimage.exposure.equalize_adapthist(X_train1[j], clip_limit=0.04)\n",
        "  Y_traine[base]=Y_train1[j]\n",
        "  base+=1\n",
        "  X_traine[base]=skimage.exposure.equalize_adapthist(X_train1[j], clip_limit=0.02)\n",
        "  Y_traine[base]=Y_train1[j]\n",
        "  base+=1\n",
        "  X_traine[base]=modify_brightness_p(X_train1[j],0.9)\n",
        "  Y_traine[base]=Y_train1[j]\n",
        "  base+=1\n",
        "  X_traine[base]=modify_brightness_p(X_train1[j],1.1)\n",
        "  Y_traine[base]=Y_train1[j]\n",
        "  base+=1\n",
        "  \n",
        "X_testc=np.copy(X_test)\n",
        "Y_testc=np.copy(Y_test)\n",
        "\n",
        "sizev=X_testc.shape[0]\n",
        "\n",
        "X_teste=np.empty((20*sizev, 128, 128, 3),dtype=np.float32)\n",
        "Y_teste=np.empty((20*sizev, 128, 128, 1),dtype=np.float32)\n",
        "\n",
        "for i in range(8):\n",
        "  X_teste[i*sizev:(i+1)*sizev]=X_testc\n",
        "  Y_teste[i*sizev:(i+1)*sizev]=Y_testc\n",
        "  \n",
        "basev= 8*sizev\n",
        "\n",
        "for j in tqdm_notebook(range(X_testc.shape[0])):\n",
        "  X_teste[basev]=skimage.exposure.equalize_adapthist(X_testc[j], clip_limit=0.04)\n",
        "  Y_teste[basev]=Y_testc[j]\n",
        "  basev+=1\n",
        "  X_teste[basev]=skimage.exposure.equalize_adapthist(X_testc[j], clip_limit=0.02)\n",
        "  Y_teste[basev]=Y_testc[j]\n",
        "  basev+=1\n",
        "  X_teste[basev]=modify_brightness_p(X_testc[j],0.9)\n",
        "  Y_teste[basev]=Y_testc[j]\n",
        "  basev+=1\n",
        "  X_teste[basev]=modify_brightness_p(X_testc[j],1.1)\n",
        "  Y_teste[basev]=Y_testc[j]\n",
        "  basev+=1"
      ],
      "execution_count": null,
      "outputs": [
        {
          "output_type": "display_data",
          "data": {
            "application/vnd.jupyter.widget-view+json": {
              "model_id": "fc6a11e7c76048649c644ff42841e0f8",
              "version_minor": 0,
              "version_major": 2
            },
            "text/plain": [
              "  0%|          | 0/513 [00:00<?, ?it/s]"
            ]
          },
          "metadata": {}
        },
        {
          "output_type": "display_data",
          "data": {
            "application/vnd.jupyter.widget-view+json": {
              "model_id": "caaf05731d164ce7ac71241f3045bae2",
              "version_minor": 0,
              "version_major": 2
            },
            "text/plain": [
              "  0%|          | 0/175 [00:00<?, ?it/s]"
            ]
          },
          "metadata": {}
        }
      ]
    },
    {
      "cell_type": "markdown",
      "metadata": {
        "id": "0x3h-uTVzUsr"
      },
      "source": [
        "<h1><center>Step 4: Shuffle the dataset</center></h1>"
      ]
    },
    {
      "cell_type": "code",
      "metadata": {
        "id": "Xll7GTkwzbSS"
      },
      "source": [
        "X_trains,Y_trains = unison_shuffled_copies(X_traine, Y_traine)\n",
        "X_tests,Y_tests = unison_shuffled_copies(X_teste, Y_teste)"
      ],
      "execution_count": null,
      "outputs": []
    },
    {
      "cell_type": "code",
      "metadata": {
        "id": "Kvz7378pz0Re"
      },
      "source": [
        "# Provide the same seed and keyword arguments to the fit and flow methods\n",
        "seed = rand_sv\n",
        "batch_s = 120"
      ],
      "execution_count": null,
      "outputs": []
    },
    {
      "cell_type": "code",
      "metadata": {
        "id": "MQlgqYOUz6Nd"
      },
      "source": [
        "# helper function for ipython notebook\n",
        "cp_callbacks = tf.keras.callbacks.ModelCheckpoint(filepath=os.path.join('/content/gdrive/MyDrive/Datasets/OD_CUP/last_check_point.hdf5'), verbose=1, save_best_only=True,save_weights_only=True)\n",
        "reduce_lr = ReduceLROnPlateau(monitor='val_loss', factor=0.8, patience=5, min_lr=2e-4)"
      ],
      "execution_count": null,
      "outputs": []
    },
    {
      "cell_type": "code",
      "metadata": {
        "colab": {
          "base_uri": "https://localhost:8080/"
        },
        "id": "5TNbXKN50KYr",
        "outputId": "d0f323c6-63dc-4ba7-805c-a8c8436533ee"
      },
      "source": [
        "img_shape"
      ],
      "execution_count": null,
      "outputs": [
        {
          "output_type": "execute_result",
          "data": {
            "text/plain": [
              "(128, 128, 3)"
            ]
          },
          "metadata": {},
          "execution_count": 26
        }
      ]
    },
    {
      "cell_type": "code",
      "metadata": {
        "id": "qTVcK0vz0i9a"
      },
      "source": [
        "model = UNet(img_shape,start_ch=chan,upconv=False,dropout=0.5, depth=depth,inc_rate=ir, batchnorm=True)\n",
        "model.compile(\n",
        "      optimizer=tf.keras.optimizers.Adam(learning_rate=.001, ),\n",
        "      loss=log_dice_loss, metrics=[dice_coef]\n",
        "      )"
      ],
      "execution_count": null,
      "outputs": []
    },
    {
      "cell_type": "code",
      "metadata": {
        "colab": {
          "base_uri": "https://localhost:8080/"
        },
        "id": "TTAa96p70QE9",
        "outputId": "39ab2aa0-0c29-4dc5-eb2a-102074545ee1"
      },
      "source": [
        "# Understand the model\n",
        "model.summary()"
      ],
      "execution_count": null,
      "outputs": [
        {
          "output_type": "stream",
          "name": "stdout",
          "text": [
            "Model: \"model\"\n",
            "__________________________________________________________________________________________________\n",
            " Layer (type)                   Output Shape         Param #     Connected to                     \n",
            "==================================================================================================\n",
            " input_1 (InputLayer)           [(None, 128, 128, 3  0           []                               \n",
            "                                )]                                                                \n",
            "                                                                                                  \n",
            " conv2d (Conv2D)                (None, 128, 128, 64  1792        ['input_1[0][0]']                \n",
            "                                )                                                                 \n",
            "                                                                                                  \n",
            " batch_normalization (BatchNorm  (None, 128, 128, 64  256        ['conv2d[0][0]']                 \n",
            " alization)                     )                                                                 \n",
            "                                                                                                  \n",
            " conv2d_1 (Conv2D)              (None, 128, 128, 64  36928       ['batch_normalization[0][0]']    \n",
            "                                )                                                                 \n",
            "                                                                                                  \n",
            " batch_normalization_1 (BatchNo  (None, 128, 128, 64  256        ['conv2d_1[0][0]']               \n",
            " rmalization)                   )                                                                 \n",
            "                                                                                                  \n",
            " max_pooling2d (MaxPooling2D)   (None, 64, 64, 64)   0           ['batch_normalization_1[0][0]']  \n",
            "                                                                                                  \n",
            " conv2d_2 (Conv2D)              (None, 64, 64, 70)   40390       ['max_pooling2d[0][0]']          \n",
            "                                                                                                  \n",
            " batch_normalization_2 (BatchNo  (None, 64, 64, 70)  280         ['conv2d_2[0][0]']               \n",
            " rmalization)                                                                                     \n",
            "                                                                                                  \n",
            " conv2d_3 (Conv2D)              (None, 64, 64, 70)   44170       ['batch_normalization_2[0][0]']  \n",
            "                                                                                                  \n",
            " batch_normalization_3 (BatchNo  (None, 64, 64, 70)  280         ['conv2d_3[0][0]']               \n",
            " rmalization)                                                                                     \n",
            "                                                                                                  \n",
            " max_pooling2d_1 (MaxPooling2D)  (None, 32, 32, 70)  0           ['batch_normalization_3[0][0]']  \n",
            "                                                                                                  \n",
            " conv2d_4 (Conv2D)              (None, 32, 32, 77)   48587       ['max_pooling2d_1[0][0]']        \n",
            "                                                                                                  \n",
            " batch_normalization_4 (BatchNo  (None, 32, 32, 77)  308         ['conv2d_4[0][0]']               \n",
            " rmalization)                                                                                     \n",
            "                                                                                                  \n",
            " conv2d_5 (Conv2D)              (None, 32, 32, 77)   53438       ['batch_normalization_4[0][0]']  \n",
            "                                                                                                  \n",
            " batch_normalization_5 (BatchNo  (None, 32, 32, 77)  308         ['conv2d_5[0][0]']               \n",
            " rmalization)                                                                                     \n",
            "                                                                                                  \n",
            " max_pooling2d_2 (MaxPooling2D)  (None, 16, 16, 77)  0           ['batch_normalization_5[0][0]']  \n",
            "                                                                                                  \n",
            " conv2d_6 (Conv2D)              (None, 16, 16, 84)   58296       ['max_pooling2d_2[0][0]']        \n",
            "                                                                                                  \n",
            " batch_normalization_6 (BatchNo  (None, 16, 16, 84)  336         ['conv2d_6[0][0]']               \n",
            " rmalization)                                                                                     \n",
            "                                                                                                  \n",
            " conv2d_7 (Conv2D)              (None, 16, 16, 84)   63588       ['batch_normalization_6[0][0]']  \n",
            "                                                                                                  \n",
            " batch_normalization_7 (BatchNo  (None, 16, 16, 84)  336         ['conv2d_7[0][0]']               \n",
            " rmalization)                                                                                     \n",
            "                                                                                                  \n",
            " max_pooling2d_3 (MaxPooling2D)  (None, 8, 8, 84)    0           ['batch_normalization_7[0][0]']  \n",
            "                                                                                                  \n",
            " conv2d_8 (Conv2D)              (None, 8, 8, 92)     69644       ['max_pooling2d_3[0][0]']        \n",
            "                                                                                                  \n",
            " batch_normalization_8 (BatchNo  (None, 8, 8, 92)    368         ['conv2d_8[0][0]']               \n",
            " rmalization)                                                                                     \n",
            "                                                                                                  \n",
            " conv2d_9 (Conv2D)              (None, 8, 8, 92)     76268       ['batch_normalization_8[0][0]']  \n",
            "                                                                                                  \n",
            " batch_normalization_9 (BatchNo  (None, 8, 8, 92)    368         ['conv2d_9[0][0]']               \n",
            " rmalization)                                                                                     \n",
            "                                                                                                  \n",
            " max_pooling2d_4 (MaxPooling2D)  (None, 4, 4, 92)    0           ['batch_normalization_9[0][0]']  \n",
            "                                                                                                  \n",
            " conv2d_10 (Conv2D)             (None, 4, 4, 101)    83729       ['max_pooling2d_4[0][0]']        \n",
            "                                                                                                  \n",
            " batch_normalization_10 (BatchN  (None, 4, 4, 101)   404         ['conv2d_10[0][0]']              \n",
            " ormalization)                                                                                    \n",
            "                                                                                                  \n",
            " conv2d_11 (Conv2D)             (None, 4, 4, 101)    91910       ['batch_normalization_10[0][0]'] \n",
            "                                                                                                  \n",
            " batch_normalization_11 (BatchN  (None, 4, 4, 101)   404         ['conv2d_11[0][0]']              \n",
            " ormalization)                                                                                    \n",
            "                                                                                                  \n",
            " max_pooling2d_5 (MaxPooling2D)  (None, 2, 2, 101)   0           ['batch_normalization_11[0][0]'] \n",
            "                                                                                                  \n",
            " conv2d_12 (Conv2D)             (None, 2, 2, 111)    101010      ['max_pooling2d_5[0][0]']        \n",
            "                                                                                                  \n",
            " batch_normalization_12 (BatchN  (None, 2, 2, 111)   444         ['conv2d_12[0][0]']              \n",
            " ormalization)                                                                                    \n",
            "                                                                                                  \n",
            " dropout (Dropout)              (None, 2, 2, 111)    0           ['batch_normalization_12[0][0]'] \n",
            "                                                                                                  \n",
            " conv2d_13 (Conv2D)             (None, 2, 2, 111)    111000      ['dropout[0][0]']                \n",
            "                                                                                                  \n",
            " batch_normalization_13 (BatchN  (None, 2, 2, 111)   444         ['conv2d_13[0][0]']              \n",
            " ormalization)                                                                                    \n",
            "                                                                                                  \n",
            " conv2d_transpose (Conv2DTransp  (None, 4, 4, 101)   101000      ['batch_normalization_13[0][0]'] \n",
            " ose)                                                                                             \n",
            "                                                                                                  \n",
            " concatenate (Concatenate)      (None, 4, 4, 202)    0           ['batch_normalization_11[0][0]', \n",
            "                                                                  'conv2d_transpose[0][0]']       \n",
            "                                                                                                  \n",
            " conv2d_14 (Conv2D)             (None, 4, 4, 101)    183719      ['concatenate[0][0]']            \n",
            "                                                                                                  \n",
            " batch_normalization_14 (BatchN  (None, 4, 4, 101)   404         ['conv2d_14[0][0]']              \n",
            " ormalization)                                                                                    \n",
            "                                                                                                  \n",
            " conv2d_15 (Conv2D)             (None, 4, 4, 101)    91910       ['batch_normalization_14[0][0]'] \n",
            "                                                                                                  \n",
            " batch_normalization_15 (BatchN  (None, 4, 4, 101)   404         ['conv2d_15[0][0]']              \n",
            " ormalization)                                                                                    \n",
            "                                                                                                  \n",
            " conv2d_transpose_1 (Conv2DTran  (None, 8, 8, 92)    83720       ['batch_normalization_15[0][0]'] \n",
            " spose)                                                                                           \n",
            "                                                                                                  \n",
            " concatenate_1 (Concatenate)    (None, 8, 8, 184)    0           ['batch_normalization_9[0][0]',  \n",
            "                                                                  'conv2d_transpose_1[0][0]']     \n",
            "                                                                                                  \n",
            " conv2d_16 (Conv2D)             (None, 8, 8, 92)     152444      ['concatenate_1[0][0]']          \n",
            "                                                                                                  \n",
            " batch_normalization_16 (BatchN  (None, 8, 8, 92)    368         ['conv2d_16[0][0]']              \n",
            " ormalization)                                                                                    \n",
            "                                                                                                  \n",
            " conv2d_17 (Conv2D)             (None, 8, 8, 92)     76268       ['batch_normalization_16[0][0]'] \n",
            "                                                                                                  \n",
            " batch_normalization_17 (BatchN  (None, 8, 8, 92)    368         ['conv2d_17[0][0]']              \n",
            " ormalization)                                                                                    \n",
            "                                                                                                  \n",
            " conv2d_transpose_2 (Conv2DTran  (None, 16, 16, 84)  69636       ['batch_normalization_17[0][0]'] \n",
            " spose)                                                                                           \n",
            "                                                                                                  \n",
            " concatenate_2 (Concatenate)    (None, 16, 16, 168)  0           ['batch_normalization_7[0][0]',  \n",
            "                                                                  'conv2d_transpose_2[0][0]']     \n",
            "                                                                                                  \n",
            " conv2d_18 (Conv2D)             (None, 16, 16, 84)   127092      ['concatenate_2[0][0]']          \n",
            "                                                                                                  \n",
            " batch_normalization_18 (BatchN  (None, 16, 16, 84)  336         ['conv2d_18[0][0]']              \n",
            " ormalization)                                                                                    \n",
            "                                                                                                  \n",
            " conv2d_19 (Conv2D)             (None, 16, 16, 84)   63588       ['batch_normalization_18[0][0]'] \n",
            "                                                                                                  \n",
            " batch_normalization_19 (BatchN  (None, 16, 16, 84)  336         ['conv2d_19[0][0]']              \n",
            " ormalization)                                                                                    \n",
            "                                                                                                  \n",
            " conv2d_transpose_3 (Conv2DTran  (None, 32, 32, 77)  58289       ['batch_normalization_19[0][0]'] \n",
            " spose)                                                                                           \n",
            "                                                                                                  \n",
            " concatenate_3 (Concatenate)    (None, 32, 32, 154)  0           ['batch_normalization_5[0][0]',  \n",
            "                                                                  'conv2d_transpose_3[0][0]']     \n",
            "                                                                                                  \n",
            " conv2d_20 (Conv2D)             (None, 32, 32, 77)   106799      ['concatenate_3[0][0]']          \n",
            "                                                                                                  \n",
            " batch_normalization_20 (BatchN  (None, 32, 32, 77)  308         ['conv2d_20[0][0]']              \n",
            " ormalization)                                                                                    \n",
            "                                                                                                  \n",
            " conv2d_21 (Conv2D)             (None, 32, 32, 77)   53438       ['batch_normalization_20[0][0]'] \n",
            "                                                                                                  \n",
            " batch_normalization_21 (BatchN  (None, 32, 32, 77)  308         ['conv2d_21[0][0]']              \n",
            " ormalization)                                                                                    \n",
            "                                                                                                  \n",
            " conv2d_transpose_4 (Conv2DTran  (None, 64, 64, 70)  48580       ['batch_normalization_21[0][0]'] \n",
            " spose)                                                                                           \n",
            "                                                                                                  \n",
            " concatenate_4 (Concatenate)    (None, 64, 64, 140)  0           ['batch_normalization_3[0][0]',  \n",
            "                                                                  'conv2d_transpose_4[0][0]']     \n",
            "                                                                                                  \n",
            " conv2d_22 (Conv2D)             (None, 64, 64, 70)   88270       ['concatenate_4[0][0]']          \n",
            "                                                                                                  \n",
            " batch_normalization_22 (BatchN  (None, 64, 64, 70)  280         ['conv2d_22[0][0]']              \n",
            " ormalization)                                                                                    \n",
            "                                                                                                  \n",
            " conv2d_23 (Conv2D)             (None, 64, 64, 70)   44170       ['batch_normalization_22[0][0]'] \n",
            "                                                                                                  \n",
            " batch_normalization_23 (BatchN  (None, 64, 64, 70)  280         ['conv2d_23[0][0]']              \n",
            " ormalization)                                                                                    \n",
            "                                                                                                  \n",
            " conv2d_transpose_5 (Conv2DTran  (None, 128, 128, 64  40384      ['batch_normalization_23[0][0]'] \n",
            " spose)                         )                                                                 \n",
            "                                                                                                  \n",
            " concatenate_5 (Concatenate)    (None, 128, 128, 12  0           ['batch_normalization_1[0][0]',  \n",
            "                                8)                                'conv2d_transpose_5[0][0]']     \n",
            "                                                                                                  \n",
            " conv2d_24 (Conv2D)             (None, 128, 128, 64  73792       ['concatenate_5[0][0]']          \n",
            "                                )                                                                 \n",
            "                                                                                                  \n",
            " batch_normalization_24 (BatchN  (None, 128, 128, 64  256        ['conv2d_24[0][0]']              \n",
            " ormalization)                  )                                                                 \n",
            "                                                                                                  \n",
            " conv2d_25 (Conv2D)             (None, 128, 128, 64  36928       ['batch_normalization_24[0][0]'] \n",
            "                                )                                                                 \n",
            "                                                                                                  \n",
            " batch_normalization_25 (BatchN  (None, 128, 128, 64  256        ['conv2d_25[0][0]']              \n",
            " ormalization)                  )                                                                 \n",
            "                                                                                                  \n",
            " conv2d_26 (Conv2D)             (None, 128, 128, 1)  65          ['batch_normalization_25[0][0]'] \n",
            "                                                                                                  \n",
            "==================================================================================================\n",
            "Total params: 2,389,538\n",
            "Trainable params: 2,385,190\n",
            "Non-trainable params: 4,348\n",
            "__________________________________________________________________________________________________\n"
          ]
        }
      ]
    },
    {
      "cell_type": "code",
      "metadata": {
        "id": "W_tPrsMJ0uUd"
      },
      "source": [
        "#model.load_weights(os.path.join('/content/gdrive/MyDrive/Datasets/OD_CUP/model1_disk_last_check_point.hdf5'))"
      ],
      "execution_count": null,
      "outputs": []
    },
    {
      "cell_type": "markdown",
      "metadata": {
        "id": "nY8r8x4F1O_u"
      },
      "source": [
        "<h1><center>Train model</center></h1>"
      ]
    },
    {
      "cell_type": "code",
      "metadata": {
        "colab": {
          "base_uri": "https://localhost:8080/"
        },
        "id": "FQ4CjcxpfEoz",
        "outputId": "53c9579e-a48e-418b-a68f-8c739ece7113"
      },
      "source": [
        "X_tests.shape"
      ],
      "execution_count": null,
      "outputs": [
        {
          "output_type": "execute_result",
          "data": {
            "text/plain": [
              "(3500, 128, 128, 3)"
            ]
          },
          "metadata": {},
          "execution_count": 31
        }
      ]
    },
    {
      "cell_type": "code",
      "metadata": {
        "colab": {
          "base_uri": "https://localhost:8080/"
        },
        "id": "3egRQ0gV1TZt",
        "outputId": "9ae83f1d-22b8-43bc-e6cd-3da25614ed40"
      },
      "source": [
        "history = model.fit(\n",
        "    X_trains,Y_trains,\n",
        "    epochs=50,\n",
        "    batch_size=128,\n",
        "    steps_per_epoch=35,\n",
        "    validation_data = (X_tests,Y_tests),\n",
        "    callbacks=[cp_callbacks,reduce_lr],\n",
        "    verbose=1\n",
        "  )"
      ],
      "execution_count": null,
      "outputs": [
        {
          "output_type": "stream",
          "name": "stdout",
          "text": [
            "Epoch 1/50\n",
            "35/35 [==============================] - ETA: 0s - loss: 1.0988 - dice_coef: 0.3527\n",
            "Epoch 00001: val_loss did not improve from inf\n",
            "35/35 [==============================] - 35s 729ms/step - loss: 1.0988 - dice_coef: 0.3527 - val_loss: nan - val_dice_coef: nan - lr: 0.0010\n",
            "Epoch 2/50\n",
            "35/35 [==============================] - ETA: 0s - loss: 0.5405 - dice_coef: 0.5863\n",
            "Epoch 00002: val_loss did not improve from inf\n",
            "35/35 [==============================] - 24s 680ms/step - loss: 0.5405 - dice_coef: 0.5863 - val_loss: nan - val_dice_coef: nan - lr: 0.0010\n",
            "Epoch 3/50\n",
            "35/35 [==============================] - ETA: 0s - loss: 0.2663 - dice_coef: 0.7672\n",
            "Epoch 00003: val_loss did not improve from inf\n",
            "35/35 [==============================] - 24s 701ms/step - loss: 0.2663 - dice_coef: 0.7672 - val_loss: nan - val_dice_coef: nan - lr: 0.0010\n",
            "Epoch 4/50\n",
            "35/35 [==============================] - ETA: 0s - loss: 0.1418 - dice_coef: 0.8679\n",
            "Epoch 00004: val_loss did not improve from inf\n",
            "35/35 [==============================] - 24s 680ms/step - loss: 0.1418 - dice_coef: 0.8679 - val_loss: nan - val_dice_coef: nan - lr: 0.0010\n",
            "Epoch 5/50\n",
            "35/35 [==============================] - ETA: 0s - loss: 0.0999 - dice_coef: 0.9054\n",
            "Epoch 00005: val_loss did not improve from inf\n",
            "35/35 [==============================] - 23s 667ms/step - loss: 0.0999 - dice_coef: 0.9054 - val_loss: nan - val_dice_coef: nan - lr: 0.0010\n",
            "Epoch 6/50\n",
            "35/35 [==============================] - ETA: 0s - loss: 0.0714 - dice_coef: 0.9311\n",
            "Epoch 00006: val_loss did not improve from inf\n",
            "35/35 [==============================] - 24s 680ms/step - loss: 0.0714 - dice_coef: 0.9311 - val_loss: nan - val_dice_coef: nan - lr: 8.0000e-04\n",
            "Epoch 7/50\n",
            "35/35 [==============================] - ETA: 0s - loss: 0.0558 - dice_coef: 0.9455\n",
            "Epoch 00007: val_loss did not improve from inf\n",
            "35/35 [==============================] - 23s 667ms/step - loss: 0.0558 - dice_coef: 0.9455 - val_loss: nan - val_dice_coef: nan - lr: 8.0000e-04\n",
            "Epoch 8/50\n",
            "35/35 [==============================] - ETA: 0s - loss: 0.0547 - dice_coef: 0.9467\n",
            "Epoch 00008: val_loss did not improve from inf\n",
            "35/35 [==============================] - 24s 680ms/step - loss: 0.0547 - dice_coef: 0.9467 - val_loss: nan - val_dice_coef: nan - lr: 8.0000e-04\n",
            "Epoch 9/50\n",
            "35/35 [==============================] - ETA: 0s - loss: 0.0470 - dice_coef: 0.9541\n",
            "Epoch 00009: val_loss did not improve from inf\n",
            "35/35 [==============================] - 24s 680ms/step - loss: 0.0470 - dice_coef: 0.9541 - val_loss: nan - val_dice_coef: nan - lr: 8.0000e-04\n",
            "Epoch 10/50\n",
            "35/35 [==============================] - ETA: 0s - loss: 0.0444 - dice_coef: 0.9566\n",
            "Epoch 00010: val_loss did not improve from inf\n",
            "35/35 [==============================] - 23s 666ms/step - loss: 0.0444 - dice_coef: 0.9566 - val_loss: nan - val_dice_coef: nan - lr: 8.0000e-04\n",
            "Epoch 11/50\n",
            "35/35 [==============================] - ETA: 0s - loss: 0.0363 - dice_coef: 0.9643\n",
            "Epoch 00011: val_loss did not improve from inf\n",
            "35/35 [==============================] - 24s 680ms/step - loss: 0.0363 - dice_coef: 0.9643 - val_loss: nan - val_dice_coef: nan - lr: 6.4000e-04\n",
            "Epoch 12/50\n",
            "35/35 [==============================] - ETA: 0s - loss: 0.0324 - dice_coef: 0.9681\n",
            "Epoch 00012: val_loss did not improve from inf\n",
            "35/35 [==============================] - 23s 667ms/step - loss: 0.0324 - dice_coef: 0.9681 - val_loss: nan - val_dice_coef: nan - lr: 6.4000e-04\n",
            "Epoch 13/50\n",
            "35/35 [==============================] - ETA: 0s - loss: 0.0308 - dice_coef: 0.9697\n",
            "Epoch 00013: val_loss did not improve from inf\n",
            "35/35 [==============================] - 24s 680ms/step - loss: 0.0308 - dice_coef: 0.9697 - val_loss: nan - val_dice_coef: nan - lr: 6.4000e-04\n",
            "Epoch 14/50\n",
            "35/35 [==============================] - ETA: 0s - loss: 0.0305 - dice_coef: 0.9699\n",
            "Epoch 00014: val_loss did not improve from inf\n",
            "35/35 [==============================] - 23s 666ms/step - loss: 0.0305 - dice_coef: 0.9699 - val_loss: nan - val_dice_coef: nan - lr: 6.4000e-04\n",
            "Epoch 15/50\n",
            "35/35 [==============================] - ETA: 0s - loss: 0.0259 - dice_coef: 0.9744\n",
            "Epoch 00015: val_loss did not improve from inf\n",
            "35/35 [==============================] - 24s 680ms/step - loss: 0.0259 - dice_coef: 0.9744 - val_loss: nan - val_dice_coef: nan - lr: 6.4000e-04\n",
            "Epoch 16/50\n",
            "35/35 [==============================] - ETA: 0s - loss: 0.0255 - dice_coef: 0.9748\n",
            "Epoch 00016: val_loss did not improve from inf\n",
            "35/35 [==============================] - 24s 680ms/step - loss: 0.0255 - dice_coef: 0.9748 - val_loss: nan - val_dice_coef: nan - lr: 5.1200e-04\n",
            "Epoch 17/50\n",
            "35/35 [==============================] - ETA: 0s - loss: 0.0254 - dice_coef: 0.9748\n",
            "Epoch 00017: val_loss did not improve from inf\n",
            "35/35 [==============================] - 23s 666ms/step - loss: 0.0254 - dice_coef: 0.9748 - val_loss: nan - val_dice_coef: nan - lr: 5.1200e-04\n",
            "Epoch 18/50\n",
            "35/35 [==============================] - ETA: 0s - loss: 0.0240 - dice_coef: 0.9763\n",
            "Epoch 00018: val_loss did not improve from inf\n",
            "35/35 [==============================] - 24s 681ms/step - loss: 0.0240 - dice_coef: 0.9763 - val_loss: nan - val_dice_coef: nan - lr: 5.1200e-04\n",
            "Epoch 19/50\n",
            "35/35 [==============================] - ETA: 0s - loss: 0.0218 - dice_coef: 0.9783\n",
            "Epoch 00019: val_loss did not improve from inf\n",
            "35/35 [==============================] - 23s 666ms/step - loss: 0.0218 - dice_coef: 0.9783 - val_loss: nan - val_dice_coef: nan - lr: 5.1200e-04\n",
            "Epoch 20/50\n",
            "35/35 [==============================] - ETA: 0s - loss: 0.0201 - dice_coef: 0.9801\n",
            "Epoch 00020: val_loss did not improve from inf\n",
            "35/35 [==============================] - 24s 681ms/step - loss: 0.0201 - dice_coef: 0.9801 - val_loss: nan - val_dice_coef: nan - lr: 5.1200e-04\n",
            "Epoch 21/50\n",
            "35/35 [==============================] - ETA: 0s - loss: 0.0208 - dice_coef: 0.9794\n",
            "Epoch 00021: val_loss did not improve from inf\n",
            "35/35 [==============================] - 23s 667ms/step - loss: 0.0208 - dice_coef: 0.9794 - val_loss: nan - val_dice_coef: nan - lr: 4.0960e-04\n",
            "Epoch 22/50\n",
            "35/35 [==============================] - ETA: 0s - loss: 0.0196 - dice_coef: 0.9806\n",
            "Epoch 00022: val_loss did not improve from inf\n",
            "35/35 [==============================] - 24s 680ms/step - loss: 0.0196 - dice_coef: 0.9806 - val_loss: nan - val_dice_coef: nan - lr: 4.0960e-04\n",
            "Epoch 23/50\n",
            "35/35 [==============================] - ETA: 0s - loss: 0.0192 - dice_coef: 0.9810\n",
            "Epoch 00023: val_loss did not improve from inf\n",
            "35/35 [==============================] - 24s 681ms/step - loss: 0.0192 - dice_coef: 0.9810 - val_loss: nan - val_dice_coef: nan - lr: 4.0960e-04\n",
            "Epoch 24/50\n",
            "35/35 [==============================] - ETA: 0s - loss: 0.0187 - dice_coef: 0.9815\n",
            "Epoch 00024: val_loss did not improve from inf\n",
            "35/35 [==============================] - 23s 666ms/step - loss: 0.0187 - dice_coef: 0.9815 - val_loss: nan - val_dice_coef: nan - lr: 4.0960e-04\n",
            "Epoch 25/50\n",
            "35/35 [==============================] - ETA: 0s - loss: 0.0179 - dice_coef: 0.9823\n",
            "Epoch 00025: val_loss did not improve from inf\n",
            "35/35 [==============================] - 24s 681ms/step - loss: 0.0179 - dice_coef: 0.9823 - val_loss: nan - val_dice_coef: nan - lr: 4.0960e-04\n",
            "Epoch 26/50\n",
            "35/35 [==============================] - ETA: 0s - loss: 0.0174 - dice_coef: 0.9827\n",
            "Epoch 00026: val_loss did not improve from inf\n",
            "35/35 [==============================] - 23s 667ms/step - loss: 0.0174 - dice_coef: 0.9827 - val_loss: nan - val_dice_coef: nan - lr: 3.2768e-04\n",
            "Epoch 27/50\n",
            "35/35 [==============================] - ETA: 0s - loss: 0.0164 - dice_coef: 0.9837\n",
            "Epoch 00027: val_loss did not improve from inf\n",
            "35/35 [==============================] - 24s 681ms/step - loss: 0.0164 - dice_coef: 0.9837 - val_loss: nan - val_dice_coef: nan - lr: 3.2768e-04\n",
            "Epoch 28/50\n",
            "35/35 [==============================] - ETA: 0s - loss: 0.0180 - dice_coef: 0.9822\n",
            "Epoch 00028: val_loss did not improve from inf\n",
            "35/35 [==============================] - 23s 666ms/step - loss: 0.0180 - dice_coef: 0.9822 - val_loss: nan - val_dice_coef: nan - lr: 3.2768e-04\n",
            "Epoch 29/50\n",
            "35/35 [==============================] - ETA: 0s - loss: 0.0163 - dice_coef: 0.9839\n",
            "Epoch 00029: val_loss did not improve from inf\n",
            "35/35 [==============================] - 24s 680ms/step - loss: 0.0163 - dice_coef: 0.9839 - val_loss: nan - val_dice_coef: nan - lr: 3.2768e-04\n",
            "Epoch 30/50\n",
            "35/35 [==============================] - ETA: 0s - loss: 0.0155 - dice_coef: 0.9846\n",
            "Epoch 00030: val_loss did not improve from inf\n",
            "35/35 [==============================] - 24s 680ms/step - loss: 0.0155 - dice_coef: 0.9846 - val_loss: nan - val_dice_coef: nan - lr: 3.2768e-04\n",
            "Epoch 31/50\n",
            "35/35 [==============================] - ETA: 0s - loss: 0.0155 - dice_coef: 0.9846\n",
            "Epoch 00031: val_loss did not improve from inf\n",
            "35/35 [==============================] - 23s 666ms/step - loss: 0.0155 - dice_coef: 0.9846 - val_loss: nan - val_dice_coef: nan - lr: 2.6214e-04\n",
            "Epoch 32/50\n",
            "35/35 [==============================] - ETA: 0s - loss: 0.0148 - dice_coef: 0.9853\n",
            "Epoch 00032: val_loss did not improve from inf\n",
            "35/35 [==============================] - 24s 680ms/step - loss: 0.0148 - dice_coef: 0.9853 - val_loss: nan - val_dice_coef: nan - lr: 2.6214e-04\n",
            "Epoch 33/50\n",
            "35/35 [==============================] - ETA: 0s - loss: 0.0157 - dice_coef: 0.9844\n",
            "Epoch 00033: val_loss did not improve from inf\n",
            "35/35 [==============================] - 23s 666ms/step - loss: 0.0157 - dice_coef: 0.9844 - val_loss: nan - val_dice_coef: nan - lr: 2.6214e-04\n",
            "Epoch 34/50\n",
            "35/35 [==============================] - ETA: 0s - loss: 0.0145 - dice_coef: 0.9856\n",
            "Epoch 00034: val_loss did not improve from inf\n",
            "35/35 [==============================] - 24s 680ms/step - loss: 0.0145 - dice_coef: 0.9856 - val_loss: nan - val_dice_coef: nan - lr: 2.6214e-04\n",
            "Epoch 35/50\n",
            "35/35 [==============================] - ETA: 0s - loss: 0.0144 - dice_coef: 0.9857\n",
            "Epoch 00035: val_loss did not improve from inf\n",
            "35/35 [==============================] - 23s 666ms/step - loss: 0.0144 - dice_coef: 0.9857 - val_loss: nan - val_dice_coef: nan - lr: 2.6214e-04\n",
            "Epoch 36/50\n",
            "35/35 [==============================] - ETA: 0s - loss: 0.0145 - dice_coef: 0.9856\n",
            "Epoch 00036: val_loss did not improve from inf\n",
            "35/35 [==============================] - 24s 680ms/step - loss: 0.0145 - dice_coef: 0.9856 - val_loss: nan - val_dice_coef: nan - lr: 2.0972e-04\n",
            "Epoch 37/50\n",
            "35/35 [==============================] - ETA: 0s - loss: 0.0144 - dice_coef: 0.9857\n",
            "Epoch 00037: val_loss did not improve from inf\n",
            "35/35 [==============================] - 24s 680ms/step - loss: 0.0144 - dice_coef: 0.9857 - val_loss: nan - val_dice_coef: nan - lr: 2.0972e-04\n",
            "Epoch 38/50\n",
            "35/35 [==============================] - ETA: 0s - loss: 0.0148 - dice_coef: 0.9850\n",
            "Epoch 00038: val_loss did not improve from inf\n",
            "35/35 [==============================] - 23s 680ms/step - loss: 0.0148 - dice_coef: 0.9850 - val_loss: nan - val_dice_coef: nan - lr: 2.0972e-04\n",
            "Epoch 39/50\n",
            "35/35 [==============================] - ETA: 0s - loss: 0.0141 - dice_coef: 0.9860\n",
            "Epoch 00039: val_loss did not improve from inf\n",
            "35/35 [==============================] - 24s 679ms/step - loss: 0.0141 - dice_coef: 0.9860 - val_loss: nan - val_dice_coef: nan - lr: 2.0972e-04\n",
            "Epoch 40/50\n",
            "35/35 [==============================] - ETA: 0s - loss: 0.0129 - dice_coef: 0.9871\n",
            "Epoch 00040: val_loss did not improve from inf\n",
            "35/35 [==============================] - 23s 666ms/step - loss: 0.0129 - dice_coef: 0.9871 - val_loss: nan - val_dice_coef: nan - lr: 2.0972e-04\n",
            "Epoch 41/50\n",
            "35/35 [==============================] - ETA: 0s - loss: 0.0129 - dice_coef: 0.9872\n",
            "Epoch 00041: val_loss did not improve from inf\n",
            "35/35 [==============================] - 24s 680ms/step - loss: 0.0129 - dice_coef: 0.9872 - val_loss: nan - val_dice_coef: nan - lr: 2.0000e-04\n",
            "Epoch 42/50\n",
            "35/35 [==============================] - ETA: 0s - loss: 0.0127 - dice_coef: 0.9873\n",
            "Epoch 00042: val_loss did not improve from inf\n",
            "35/35 [==============================] - 23s 667ms/step - loss: 0.0127 - dice_coef: 0.9873 - val_loss: nan - val_dice_coef: nan - lr: 2.0000e-04\n",
            "Epoch 43/50\n",
            "35/35 [==============================] - ETA: 0s - loss: 0.0136 - dice_coef: 0.9864\n",
            "Epoch 00043: val_loss did not improve from inf\n",
            "35/35 [==============================] - 24s 680ms/step - loss: 0.0136 - dice_coef: 0.9864 - val_loss: nan - val_dice_coef: nan - lr: 2.0000e-04\n",
            "Epoch 44/50\n",
            "35/35 [==============================] - ETA: 0s - loss: 0.0129 - dice_coef: 0.9871\n",
            "Epoch 00044: val_loss did not improve from inf\n",
            "35/35 [==============================] - 23s 666ms/step - loss: 0.0129 - dice_coef: 0.9871 - val_loss: nan - val_dice_coef: nan - lr: 2.0000e-04\n",
            "Epoch 45/50\n",
            "35/35 [==============================] - ETA: 0s - loss: 0.0133 - dice_coef: 0.9868\n",
            "Epoch 00045: val_loss did not improve from inf\n",
            "35/35 [==============================] - 24s 680ms/step - loss: 0.0133 - dice_coef: 0.9868 - val_loss: nan - val_dice_coef: nan - lr: 2.0000e-04\n",
            "Epoch 46/50\n",
            "35/35 [==============================] - ETA: 0s - loss: 0.0125 - dice_coef: 0.9875\n",
            "Epoch 00046: val_loss did not improve from inf\n",
            "35/35 [==============================] - 24s 680ms/step - loss: 0.0125 - dice_coef: 0.9875 - val_loss: nan - val_dice_coef: nan - lr: 2.0000e-04\n",
            "Epoch 47/50\n",
            "35/35 [==============================] - ETA: 0s - loss: 0.0129 - dice_coef: 0.9871\n",
            "Epoch 00047: val_loss did not improve from inf\n",
            "35/35 [==============================] - 23s 667ms/step - loss: 0.0129 - dice_coef: 0.9871 - val_loss: nan - val_dice_coef: nan - lr: 2.0000e-04\n",
            "Epoch 48/50\n",
            "35/35 [==============================] - ETA: 0s - loss: 0.0128 - dice_coef: 0.9873\n",
            "Epoch 00048: val_loss did not improve from inf\n",
            "35/35 [==============================] - 24s 680ms/step - loss: 0.0128 - dice_coef: 0.9873 - val_loss: nan - val_dice_coef: nan - lr: 2.0000e-04\n",
            "Epoch 49/50\n",
            "35/35 [==============================] - ETA: 0s - loss: 0.0129 - dice_coef: 0.9872\n",
            "Epoch 00049: val_loss did not improve from inf\n",
            "35/35 [==============================] - 23s 666ms/step - loss: 0.0129 - dice_coef: 0.9872 - val_loss: nan - val_dice_coef: nan - lr: 2.0000e-04\n",
            "Epoch 50/50\n",
            "35/35 [==============================] - ETA: 0s - loss: 0.0126 - dice_coef: 0.9875\n",
            "Epoch 00050: val_loss did not improve from inf\n",
            "35/35 [==============================] - 24s 681ms/step - loss: 0.0126 - dice_coef: 0.9875 - val_loss: nan - val_dice_coef: nan - lr: 2.0000e-04\n"
          ]
        }
      ]
    },
    {
      "cell_type": "markdown",
      "metadata": {
        "id": "4mgn2KIg4TRh"
      },
      "source": [
        "<h1><center>Save the trained model's weights</center></h1>"
      ]
    },
    {
      "cell_type": "code",
      "metadata": {
        "id": "d6uoJ52K4Y96"
      },
      "source": [
        "model.save_weights(os.path.join('/content/gdrive/MyDrive/Datasets/OD_CUP/model1_disk_last_check_point.hdf5'), overwrite=True)"
      ],
      "execution_count": null,
      "outputs": []
    },
    {
      "cell_type": "markdown",
      "metadata": {
        "id": "9PwSqbb85KTm"
      },
      "source": [
        "<h1><center>Load trained model's weights</center></h1>"
      ]
    },
    {
      "cell_type": "code",
      "metadata": {
        "id": "_ZSTcKpz5Zr3"
      },
      "source": [
        "model.load_weights(os.path.join('/content/gdrive/MyDrive/Datasets/OD_CUP/model1_disk_last_check_point.hdf5'))"
      ],
      "execution_count": null,
      "outputs": []
    },
    {
      "cell_type": "markdown",
      "metadata": {
        "id": "u97iE1VW6VhG"
      },
      "source": [
        "<h1><center>Visualise the change in accuracies and losses during training</center></h1>"
      ]
    },
    {
      "cell_type": "code",
      "metadata": {
        "colab": {
          "base_uri": "https://localhost:8080/",
          "height": 513
        },
        "id": "lCy46Hhb6bd8",
        "outputId": "dabc0d39-5aff-4f23-9661-27c61a0123cf"
      },
      "source": [
        "# plot train and test log dice loss\n",
        "\n",
        "if(train):\n",
        "  loss = history.history['loss']\n",
        "  val_loss=history.history['val_loss']\n",
        "  acc=history.history['dice_coef']\n",
        "  epochs = range(1, len(loss) + 1)\n",
        "  plt.figure(figsize=(8, 8))\n",
        "  plt.plot(epochs, loss, 'r', label='Training loss')\n",
        "  plt.plot(epochs, val_loss, 'b', label='Test loss')\n",
        "  plt.title('Training and test loss')\n",
        "  plt.xlabel('Epochs')\n",
        "  plt.ylabel('Loss')\n",
        "  plt.legend()\n",
        "  plt.savefig(os.path.join('/content/gdrive/MyDrive/Datasets/OD_CUP','loss'+'model1_disk'+'.png'),dpi=600)"
      ],
      "execution_count": null,
      "outputs": [
        {
          "output_type": "display_data",
          "data": {
            "image/png": "[encoded data removed]",
            "text/plain": [
              "<Figure size 576x576 with 1 Axes>"
            ]
          },
          "metadata": {
            "needs_background": "light"
          }
        }
      ]
    },
    {
      "cell_type": "code",
      "metadata": {
        "colab": {
          "base_uri": "https://localhost:8080/",
          "height": 513
        },
        "id": "llfk6ANs6pVj",
        "outputId": "ed0c1f29-f3d0-442a-a8b4-8c70f9ae3315"
      },
      "source": [
        "# plot train and test dice coeffecient (accuracy)\n",
        "if(train):\n",
        "  loss = history.history['loss']\n",
        "  acc=history.history['dice_coef']\n",
        "  val_acc=history.history['val_dice_coef']\n",
        "  epochs = range(1, len(acc) + 1)\n",
        "  plt.figure(figsize=(8, 8))\n",
        "  plt.plot(epochs, acc, 'r', label='Dice')\n",
        "  plt.plot(epochs, val_acc, 'b', label='Test dice')\n",
        "  plt.title('Training and test Dice')\n",
        "  plt.xlabel('Epochs')\n",
        "  plt.ylabel('Acc')\n",
        "  plt.legend()\n",
        "  plt.savefig(os.path.join('/content/gdrive/MyDrive/Datasets/OD_CUP','hist'+'model1_disk'+'.png'),dpi=600)"
      ],
      "execution_count": null,
      "outputs": [
        {
          "output_type": "display_data",
          "data": {
            "image/png": "[encoded data removed]",
            "text/plain": [
              "<Figure size 576x576 with 1 Axes>"
            ]
          },
          "metadata": {
            "needs_background": "light"
          }
        }
      ]
    },
    {
      "cell_type": "markdown",
      "metadata": {
        "id": "If0v-xoG63Yo"
      },
      "source": [
        "<h1><center>Evaluate the model with the test data</center></h1>"
      ]
    },
    {
      "cell_type": "code",
      "metadata": {
        "colab": {
          "base_uri": "https://localhost:8080/"
        },
        "id": "cTiVK8mT7CRL",
        "outputId": "15dafe27-287d-4dd3-df78-10cac82ec308"
      },
      "source": [
        "result = model.evaluate(X_tests[0:700,:,:,:],Y_tests[0:700,:,:,:])\n",
        "print(\"Log dice loss for test set = \", result[0])\n",
        "print(\"Dice coeffecient (accuracy) for test set = \", result[1])"
      ],
      "execution_count": null,
      "outputs": [
        {
          "output_type": "stream",
          "name": "stdout",
          "text": [
            "22/22 [==============================] - 3s 85ms/step - loss: nan - dice_coef: nan\n",
            "Log dice loss for test set =  nan\n",
            "Dice coeffecient (accuracy) for test set =  nan\n"
          ]
        }
      ]
    },
    {
      "cell_type": "markdown",
      "metadata": {
        "id": "34mndQNX76RA"
      },
      "source": [
        "<h1><center>Visualize the segmentation performance on the combined test sets</center></h1>"
      ]
    },
    {
      "cell_type": "code",
      "metadata": {
        "colab": {
          "base_uri": "https://localhost:8080/"
        },
        "id": "n2e5o54L8K8X",
        "outputId": "c3f77ef8-2ef7-42a5-f25e-c79ea0f085f6"
      },
      "source": [
        "test_s=int(X_testc.shape[0])\n",
        "test_s=test_s-test_s%8\n",
        "test_s"
      ],
      "execution_count": null,
      "outputs": [
        {
          "output_type": "execute_result",
          "data": {
            "text/plain": [
              "168"
            ]
          },
          "metadata": {},
          "execution_count": 38
        }
      ]
    },
    {
      "cell_type": "code",
      "metadata": {
        "colab": {
          "base_uri": "https://localhost:8080/",
          "height": 592,
          "referenced_widgets": [
            "63a06219cc864de78b9533c3d899bcf1",
            "ae9286d040c84dae8de90d1668621016",
            "e0ef9e0a78a845f3a86c8b5271bbaf45",
            "7deb44ea842c49c799eb19248701f840",
            "c3e5f382a01b4055912c4b288addac86",
            "4264d1b6caa94dc4893d375e99e3ec00",
            "969a147da2424e9ab22a806923a54aca",
            "d15e4488f3c44f588182299a4ebc4587",
            "d448d8a8efb54550a6061dca9bce38b8",
            "abd3231ed10645999eba74e3588da300",
            "a4e779604c54467ea4158b41e068bfb5"
          ]
        },
        "id": "O9lgkXxb8Sqa",
        "outputId": "3e3bc090-a1c3-4aa3-af5a-7cd7a16253da"
      },
      "source": [
        "%%time\n",
        "pred_dice=np.empty((test_s), dtype=np.float32)\n",
        "pred_iou=np.empty((test_s), dtype=np.float32)\n",
        "\n",
        "batch_X = X_testc[0:test_s]\n",
        "batch_y = Y_testc[0:test_s]\n",
        "print (batch_X.shape)\n",
        "    \n",
        "predv = (model.predict(batch_X,batch_size=test_s)[...,0]>0.5).astype(np.float32)\n",
        "corrv= (batch_y)[ ..., 0].astype(np.float32)\n",
        "predv1=predv.copy()\n",
        "\n",
        "\n",
        "for i in tqdm_notebook(range(predv.shape[0])):\n",
        "    img = X_test[i]\n",
        "    pred = predv[i]\n",
        "    corr = corrv[i]\n",
        "    label_pc = skimage.measure.label(pred, connectivity=pred.ndim)\n",
        "    props_pc = skimage.measure.regionprops(label_pc)\n",
        "    sz=len(props_pc)\n",
        "    if(sz)!=0:\n",
        "      areap=[props_pc[i].area for i in range(sz)]\n",
        "      k=np.argmax(areap)\n",
        "      predv1[i]=np.equal(label_pc,k+1).astype(int).astype(np.float32)\n",
        "    pred1= predv1[i]\n",
        "    cur_dice = np_dice_coef(pred1, corr)\n",
        "    cur_iou = np_iou(pred1,corr)\n",
        "    pred_dice[i]=(cur_dice)\n",
        "    pred_iou[i]=cur_iou\n",
        "    \n",
        "    \n",
        "d_worst=np.amin(pred_dice)\n",
        "d_best=np.amax(pred_dice)\n",
        "d_mean=np.mean(pred_dice)\n",
        "d_std=np.std(pred_dice)\n",
        "print(\"Dice mean=\",d_mean, \" Std=\",d_std, \" best=\",d_best,\" worst=\",d_worst)\n",
        "\n",
        "i_worst=np.amin(pred_iou)\n",
        "i_best=np.amax(pred_iou)\n",
        "i_mean=np.mean(pred_iou)\n",
        "i_std=np.std(pred_iou)\n",
        "print(\"IOU mean=\",i_mean, \" Std=\",i_std, \" best=\",i_best,\" worst=\",i_worst)\n",
        "\n",
        "ix_best=np.argmax(pred_dice)\n",
        "ix_worst=np.argmin(pred_dice)\n",
        "\n",
        "j=0\n",
        "for i in [ix_best,ix_worst]:\n",
        "    print('image #{}'.format(i))\n",
        "    img = X_test[i]\n",
        "    pred1 = predv1[i]\n",
        "    corr = corrv[i]\n",
        "    print(pred_dice[i])\n",
        "    fig = plt.figure(figsize=(9, 4))\n",
        "    ax = fig.add_subplot(1, 3, 1)\n",
        "    edgesp = canny(pred1)\n",
        "    edgesp=1.0-dilation(edgesp)\n",
        "    edgesp = color.gray2rgb(1.0*edgesp)\n",
        "    ax.imshow(img*edgesp)\n",
        "    ax.set_title('Predicted')\n",
        "    ax = fig.add_subplot(1, 3, 2)\n",
        "    edgesc = canny(corr)\n",
        "    edgesc=1.0-dilation(edgesc)\n",
        "    edgesc = color.gray2rgb(1.0*edgesc)\n",
        "    ax.imshow(img*edgesc)\n",
        "    ax.set_title('Correct')\n",
        "    ax = fig.add_subplot(1, 3, 3)\n",
        "    ax.imshow(img)\n",
        "    ax.set_title('Image')\n",
        "    fig.savefig(os.path.join('/content/gdrive/MyDrive/Datasets/OD_CUP','img_test_set'+str(j)+'model1_disk'+'.png'),dpi=600)\n",
        "    j+=1"
      ],
      "execution_count": null,
      "outputs": [
        {
          "output_type": "stream",
          "name": "stdout",
          "text": [
            "(168, 128, 128, 3)\n"
          ]
        },
        {
          "output_type": "display_data",
          "data": {
            "application/vnd.jupyter.widget-view+json": {
              "model_id": "63a06219cc864de78b9533c3d899bcf1",
              "version_minor": 0,
              "version_major": 2
            },
            "text/plain": [
              "  0%|          | 0/168 [00:00<?, ?it/s]"
            ]
          },
          "metadata": {}
        },
        {
          "output_type": "stream",
          "name": "stdout",
          "text": [
            "Dice mean= 0.90179265  Std= 0.068076216  best= 0.9723295  worst= 0.5735898\n",
            "IOU mean= 0.82719564  Std= 0.098150045  best= 0.9461491  worst= 0.40212122\n",
            "image #76\n",
            "0.9723295\n",
            "image #70\n",
            "0.5735898\n",
            "CPU times: user 9.14 s, sys: 59.1 ms, total: 9.19 s\n",
            "Wall time: 10.4 s\n"
          ]
        },
        {
          "output_type": "display_data",
          "data": {
            "image/png": "[encoded data removed]",
            "text/plain": [
              "<Figure size 648x288 with 3 Axes>"
            ]
          },
          "metadata": {
            "needs_background": "light"
          }
        },
        {
          "output_type": "display_data",
          "data": {
            "image/png": "[encoded data removed]",
            "text/plain": [
              "<Figure size 648x288 with 3 Axes>"
            ]
          },
          "metadata": {
            "needs_background": "light"
          }
        }
      ]
    },
    {
      "cell_type": "markdown",
      "metadata": {
        "id": "OIByxUQ49D42"
      },
      "source": [
        "<h1><center>Visualize the segmentation performance on each dataset</center></h1>"
      ]
    },
    {
      "cell_type": "code",
      "metadata": {
        "id": "I6rPxbEq9Uul"
      },
      "source": [
        "#RIM ONE\n",
        "#test_s=int(X_test_rim.shape[0])\n",
        "#test_s"
      ],
      "execution_count": null,
      "outputs": []
    },
    {
      "cell_type": "code",
      "metadata": {
        "colab": {
          "base_uri": "https://localhost:8080/"
        },
        "id": "KccN8j_3-HWy",
        "outputId": "8a1921d3-831b-42c2-d5c3-a9f7465ca0b8"
      },
      "source": [
        "#DRISHTI\n",
        "test_s=int(X_test_dri.shape[0])\n",
        "test_s"
      ],
      "execution_count": null,
      "outputs": [
        {
          "output_type": "execute_result",
          "data": {
            "text/plain": [
              "13"
            ]
          },
          "metadata": {},
          "execution_count": 41
        }
      ]
    },
    {
      "cell_type": "code",
      "metadata": {
        "colab": {
          "base_uri": "https://localhost:8080/",
          "height": 558,
          "referenced_widgets": [
            "60ffaf43949d47dcbcd14c3800955fdf",
            "9cd6991029794069a97562234878b280",
            "140cd3717f1f42f8be04fd6993e6b5a0",
            "934227acdadb44d79b8939f3f0313bcc",
            "ac5770a2c604413ebcddaaabdb0e4257",
            "df2de9e100284d25bc93e5489c876a25",
            "db626fc80f7c48bb992406722f12f292",
            "9d428517389f4ebeb3dfbd0d54fd02a6",
            "3b4f7f363fa14c33a95d483d41e63c00",
            "f1f2b412aece4a2887bb7ca5cf6ec2b1",
            "aef46547dc8745e59a45f5718bac8ae0"
          ]
        },
        "id": "S7O-eKOM9jdf",
        "outputId": "e0243319-27ea-4ad3-c64e-cb0d11c2c671"
      },
      "source": [
        "pred_dice=np.empty((test_s), dtype=np.float32)\n",
        "pred_iou=np.empty((test_s), dtype=np.float32)\n",
        "\n",
        "batch_X = X_test_rim[0:test_s]\n",
        "batch_y = Y_test_rim[0:test_s]\n",
        "print (batch_X.shape)\n",
        "    \n",
        "predv = (model.predict(batch_X,batch_size=test_s)[...,0]>0.5).astype(np.float32)\n",
        "corrv= (batch_y)[ ..., 0].astype(np.float32)\n",
        "predv1=predv.copy()\n",
        "\n",
        "for i in tqdm_notebook(range(predv.shape[0])):\n",
        "    img = X_test_rim[i]\n",
        "    pred = predv[i]\n",
        "    corr = corrv[i]\n",
        "    label_pc = skimage.measure.label(pred, connectivity=pred.ndim)\n",
        "    props_pc = skimage.measure.regionprops(label_pc)\n",
        "    sz=len(props_pc)\n",
        "    if(sz)!=0:\n",
        "      areap=[props_pc[i].area for i in range(sz)]\n",
        "      k=np.argmax(areap)\n",
        "      predv1[i]=np.equal(label_pc,k+1).astype(int).astype(np.float32)\n",
        "    pred1= predv1[i]\n",
        "    cur_dice = np_dice_coef(pred1, corr)\n",
        "    cur_iou = np_iou(pred1,corr)\n",
        "    pred_dice[i]=(cur_dice)\n",
        "    pred_iou[i]=cur_iou\n",
        "    \n",
        "    \n",
        "d_worst=np.amin(pred_dice)\n",
        "d_best=np.amax(pred_dice)\n",
        "d_mean=np.mean(pred_dice)\n",
        "d_std=np.std(pred_dice)\n",
        "print(\"Dice mean=\",d_mean, \" Std=\",d_std, \" best=\",d_best,\" worst=\",d_worst)\n",
        "\n",
        "i_worst=np.amin(pred_iou)\n",
        "i_best=np.amax(pred_iou)\n",
        "i_mean=np.mean(pred_iou)\n",
        "i_std=np.std(pred_iou)\n",
        "print(\"IOU mean=\",i_mean, \" Std=\",i_std, \" best=\",i_best,\" worst=\",i_worst)\n",
        "\n",
        "ix_best=np.argmax(pred_dice)\n",
        "ix_worst=np.argmin(pred_dice)\n",
        "\n",
        "j=0\n",
        "for i in [ix_best,ix_worst]:\n",
        "    print('image #{}'.format(i))\n",
        "    img = X_test_rim[i]\n",
        "    pred = predv1[i]\n",
        "    corr = corrv[i]\n",
        "    print(pred_dice[i])\n",
        "    fig = plt.figure(figsize=(9, 4))\n",
        "    ax = fig.add_subplot(1, 3, 1)\n",
        "    edgesp = canny(pred)\n",
        "    edgesp=1.0-dilation(edgesp)\n",
        "    edgesp = color.gray2rgb(1.0*edgesp)\n",
        "    ax.imshow(img*edgesp)\n",
        "    ax.set_title('Predicted')\n",
        "    ax = fig.add_subplot(1, 3, 2)\n",
        "    edgesc = canny(corr)\n",
        "    edgesc=1.0-dilation(edgesc)\n",
        "    edgesc = color.gray2rgb(1.0*edgesc)\n",
        "    ax.imshow(img*edgesc)\n",
        "    ax.set_title('Correct')\n",
        "    ax = fig.add_subplot(1, 3, 3)\n",
        "    ax.imshow(img)\n",
        "    ax.set_title('Image')\n",
        "    fig.savefig(os.path.join('/content/gdrive/MyDrive/Datasets/OD_CUP','img_DRISHTI'+str(j)+'model1_disk'+'.png'),dpi=600)\n",
        "    j+=1"
      ],
      "execution_count": null,
      "outputs": [
        {
          "output_type": "stream",
          "name": "stdout",
          "text": [
            "(13, 128, 128, 3)\n"
          ]
        },
        {
          "output_type": "display_data",
          "data": {
            "application/vnd.jupyter.widget-view+json": {
              "model_id": "60ffaf43949d47dcbcd14c3800955fdf",
              "version_minor": 0,
              "version_major": 2
            },
            "text/plain": [
              "  0%|          | 0/13 [00:00<?, ?it/s]"
            ]
          },
          "metadata": {}
        },
        {
          "output_type": "stream",
          "name": "stdout",
          "text": [
            "Dice mean= 0.89361125  Std= 0.09133741  best= 0.9708857  worst= 0.60361546\n",
            "IOU mean= 0.8180961  Std= 0.12661876  best= 0.94341874  worst= 0.43227026\n",
            "image #1\n",
            "0.9708857\n",
            "image #5\n",
            "0.60361546\n"
          ]
        },
        {
          "output_type": "display_data",
          "data": {
            "image/png": "[encoded data removed]",
            "text/plain": [
              "<Figure size 648x288 with 3 Axes>"
            ]
          },
          "metadata": {
            "needs_background": "light"
          }
        },
        {
          "output_type": "display_data",
          "data": {
            "image/png": "[encoded data removed]",
            "text/plain": [
              "<Figure size 648x288 with 3 Axes>"
            ]
          },
          "metadata": {
            "needs_background": "light"
          }
        }
      ]
    }
  ]
}